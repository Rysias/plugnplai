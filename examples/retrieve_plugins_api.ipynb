{
 "cells": [
  {
   "attachments": {},
   "cell_type": "markdown",
   "metadata": {},
   "source": [
    "# Retrieving Plugins using Plug and Plai API\n",
    "\n",
    "[![Open In Colab](https://colab.research.google.com/assets/colab-badge.svg)](https://colab.research.google.com/github/edreisMD/plugnplai/blob/main/examples/retrieve_plugins_api.ipynb)\n",
    "\n",
    "This example shows how to retrieve compatible plugins using Plug and Plai within LangChain abstractions.\n",
    "\n",
    "### Install Plug and Plai and necessary LangChain tools"
   ]
  },
  {
   "cell_type": "code",
   "execution_count": 1,
   "metadata": {},
   "outputs": [
    {
     "name": "stdout",
     "output_type": "stream",
     "text": [
      "\n",
      "\u001b[1m[\u001b[0m\u001b[34;49mnotice\u001b[0m\u001b[1;39;49m]\u001b[0m\u001b[39;49m A new release of pip is available: \u001b[0m\u001b[31;49m23.0.1\u001b[0m\u001b[39;49m -> \u001b[0m\u001b[32;49m23.1.2\u001b[0m\n",
      "\u001b[1m[\u001b[0m\u001b[34;49mnotice\u001b[0m\u001b[1;39;49m]\u001b[0m\u001b[39;49m To update, run: \u001b[0m\u001b[32;49mpip install --upgrade pip\u001b[0m\n",
      "Note: you may need to restart the kernel to use updated packages.\n"
     ]
    }
   ],
   "source": [
    "pip install plugnplai -q"
   ]
  },
  {
   "attachments": {},
   "cell_type": "markdown",
   "metadata": {},
   "source": [
    "### Store all plugins in a dictionary\n",
    "1. Use the 'get_plugins' function to get all plugins from plugnplai.com\n",
    "2. Load the specifications and store in a dictionary of key: \"name_for_model\", value: PluginObject (from plugin.PluginObject - it contains all information to describe and call the plugin later)"
   ]
  },
  {
   "cell_type": "code",
   "execution_count": 3,
   "metadata": {},
   "outputs": [
    {
     "name": "stdout",
     "output_type": "stream",
     "text": [
      "Http Error: 403 Client Error: Forbidden for url: https://ramp.com/.well-known/ai-plugin.json\n",
      "Error Connecting: HTTPSConnectionPool(host='theansible.ai', port=443): Max retries exceeded with url: /.well-known/ai-plugin.json (Caused by NewConnectionError('<urllib3.connection.HTTPSConnection object at 0x7f0e565b1130>: Failed to establish a new connection: [Errno -5] No address associated with hostname'))\n",
      "Http Error: 401 Client Error:  for url: https://staging.valispace.com/rest/?format=openapi\n",
      "Http Error: 500 Server Error: Internal Server Error for url: https://api.kyuda.io/v1/sdk/user/openapi.json\n",
      "Error Connecting: HTTPSConnectionPool(host='docketalarm.com', port=443): Max retries exceeded with url: /.well-known/ai-plugin.json (Caused by NewConnectionError('<urllib3.connection.HTTPSConnection object at 0x7f0e56e1fa60>: Failed to establish a new connection: [Errno 101] Network is unreachable'))\n"
     ]
    }
   ],
   "source": [
    "import plugnplai as pl\n",
    "\n",
    "# Get all plugins from plugnplai.com\n",
    "urls = pl.get_plugins()\n",
    "\n",
    "dict_plugins = {}\n",
    "\n",
    "# Lets load 5 plugins as an example \n",
    "# (loading all plugins may take a while, we are loading only 50, but feel free to try loading more)\n",
    "max_line_length = 100\n",
    "for url in urls[:50]: # 50 plugins - remove [:50] to load all plugins\n",
    "    try:\n",
    "        manifest, specification = pl.spec_from_url(url)\n",
    "        plugin = pl.PluginObject(url, specification, manifest)\n",
    "        dict_plugins[plugin.name_for_model] = plugin\n",
    "        # print(f\"Plugin {plugin.name_for_model} successfully loaded.\", end=\"\", flush=True)\n",
    "    except Exception as e:\n",
    "        # print(f\"Error loading plugin {url}: {e}\", end=\"\", flush=True)\n",
    "        pass"
   ]
  },
  {
   "cell_type": "code",
   "execution_count": 11,
   "metadata": {},
   "outputs": [
    {
     "name": "stdout",
     "output_type": "stream",
     "text": [
      "Number of available plugins: 42\n"
     ]
    }
   ],
   "source": [
    "#  print number of plugins in dict_plugins\n",
    "print(f\"Number of available plugins: {len(dict_plugins)}\")"
   ]
  },
  {
   "attachments": {},
   "cell_type": "markdown",
   "metadata": {},
   "source": [
    "### Retrieve the best plugin for the task\n",
    "Use pl.retrieve to call PlugnPlai retrieve api based on the user message - https://www.plugnplai.com/_functions/retrieve?text={user_message_here}"
   ]
  },
  {
   "cell_type": "code",
   "execution_count": 12,
   "metadata": {},
   "outputs": [
    {
     "data": {
      "text/plain": [
       "dict_keys(['speak', 'WolframAlpha', 'Wolfram', 'KlarnaProducts', 'Zapier', 'Shop', 'Milo', 'guru', 'biztoc', 'calculator', 'datasette_datasette_io_3c330f', 'url_reader', 'owd', 'quickchart', 'screenshot', 'portfoliopilot', 'triple_whale_benchmarks', 'recipe_retrieval', 'Semgrep', 'woxo', 'textbelt', 'mrkter', 'kittycad', 'SceneXplain', 'Transvribe', 'web_search', 'messagebird', 'AppyPieAIAppBuilder', 'Asana', 'dalle_plugin', 'MixerBox_OnePlayer_music', 'luma_events', 'safari', 'seoanalysis', 'doctors', 'KalendarAI', 'code_repo_interaction', 'onelook_thesaurus', 'Ambition', 'CensysGPT', 'Slack', 'yt_persona_generator'])"
      ]
     },
     "execution_count": 12,
     "metadata": {},
     "output_type": "execute_result"
    }
   ],
   "source": [
    "dict_plugins.keys()"
   ]
  },
  {
   "cell_type": "code",
   "execution_count": 13,
   "metadata": {},
   "outputs": [
    {
     "name": "stdout",
     "output_type": "stream",
     "text": [
      "Top plugins: ['KlarnaProducts']\n"
     ]
    }
   ],
   "source": [
    "def top_plugins(user_message):\n",
    "\n",
    "    top_plugins_names = pl.retrieve(text = user_message, available_plugins = dict_plugins.keys())\n",
    "\n",
    "    #  Convert the top_plugins (list of strings) in a list of PluginObject\n",
    "    top_plugins = [dict_plugins[plugin] for plugin in top_plugins_names]\n",
    "\n",
    "    plugins = pl.Plugins(top_plugins)\n",
    "\n",
    "    # activate the plugins\n",
    "    for name in top_plugins_names:\n",
    "        plugins.activate(name)\n",
    "\n",
    "    return top_plugins_names, plugins\n",
    "\n",
    "names, plugins = top_plugins(\"What t shirts are available in klarna?\")\n",
    "print(f\"Top plugins: {names}\")"
   ]
  },
  {
   "attachments": {},
   "cell_type": "markdown",
   "metadata": {},
   "source": [
    "# Load the top plugin into the prompt using Plugins class "
   ]
  },
  {
   "cell_type": "code",
   "execution_count": 14,
   "metadata": {},
   "outputs": [
    {
     "name": "stdout",
     "output_type": "stream",
     "text": [
      "\n",
      "# SYSTEM MESSAGE\n",
      "You are a large language model trained to assist humans.\n",
      "Knowledge Cutoff: 2021-09\n",
      "Current date: 2023-06-24\n",
      "Below is a list of available APIs that you can utilize to fulfill user requests. \n",
      "When using an API, please follow the specified format to make the API call. \n",
      "Don't ask follow-up questions and aim to complete the task with the information provided by the user.\n",
      "\n",
      "To make an API call, use the following format (using JSON double quotes for the API call parameters):\n",
      "\n",
      "<API>namespace.operationId({\"parameter_name\": \"parameter_value\", ...})</API>\n",
      "\n",
      "For example, to call an API operation with the operation ID \"productsUsingGET\" in the \"KlarnaProducts\" namespace, \n",
      "and provide the required parameters \"q\" and \"size\", the format would be as follows:\n",
      "\n",
      "<API>KlarnaProducts.productsUsingGET({\"q\": \"t-shirt\", \"size\": 3})</API>\n",
      "\n",
      "Please ensure that you use the correct namespace and operation ID, and provide the necessary parameters for each API call. \n",
      "After requesting the API, refrain from writing anything else and wait for the API response, which will be delivered in a new message.\n",
      "\n",
      "## Plugins description ('*' are required parameters):\n",
      "\n",
      "### Plugin 1\n",
      "// Assistant uses the Klarna plugin to get relevant product suggestions for any shopping or product discovery purpose. Assistant will reply with the following 3 paragraphs 1) Search Results 2) Product Comparison of the Search Results 3) Followup Questions. The first paragraph contains a list of the products with their attributes listed clearly and concisely as bullet points under the product, together with a link to the product and an explanation. Links will always be returned and should be shown to the user. The second paragraph compares the results returned in a summary sentence starting with \"In summary\". Assistant comparisons consider only the most important features of the products that will help them fit the users request, and each product mention is brief, short and concise. In the third paragraph assistant always asks helpful follow-up questions and end with a question mark. When assistant is asking a follow-up question, it uses it's product expertise to provide information pertaining to the subject of the user's request that may guide them in their search for the right product.\n",
      "namespace KlarnaProducts {\n",
      "\n",
      "operationId productsUsingGET = (_: {'countryCode'*: 'str', 'q'*: 'str', 'size': 'int', 'min_price': 'int', 'max_price': 'int'}) => any}\n",
      "\n",
      "\n",
      "# USER MESSAGE\n",
      "\n"
     ]
    }
   ],
   "source": [
    "print(plugins.prompt)"
   ]
  },
  {
   "attachments": {},
   "cell_type": "markdown",
   "metadata": {},
   "source": [
    "# Now lets just follow the example in plugins_step_by_step.ipynb"
   ]
  },
  {
   "attachments": {},
   "cell_type": "markdown",
   "metadata": {},
   "source": [
    "### Call the LLM using LangChain"
   ]
  },
  {
   "cell_type": "code",
   "execution_count": 42,
   "metadata": {},
   "outputs": [],
   "source": [
    "# You will need to first define your API key\n",
    "import os\n",
    "os.environ[\"OPENAI_API_KEY\"] = \"YOUR_API_KEY\""
   ]
  },
  {
   "cell_type": "code",
   "execution_count": 16,
   "metadata": {},
   "outputs": [],
   "source": [
    "from langchain.chat_models import ChatOpenAI\n",
    "from langchain.prompts.chat import ChatPromptTemplate, SystemMessagePromptTemplate, AIMessagePromptTemplate, HumanMessagePromptTemplate\n",
    "from langchain.schema import AIMessage, HumanMessage, SystemMessage\n",
    "from IPython.display import display, Markdown"
   ]
  },
  {
   "attachments": {},
   "cell_type": "markdown",
   "metadata": {},
   "source": [
    "#### Uncomment or modify the message to test different plugins"
   ]
  },
  {
   "cell_type": "code",
   "execution_count": 30,
   "metadata": {},
   "outputs": [],
   "source": [
    "# Test Klarna Plugin\n",
    "HUMAN_MESSAGE = \"What t shirts are available in klarna?\"\n",
    "\n",
    "# Test Trip Plugin\n",
    "# HUMAN_MESSAGE = \"I need a hotel in Paris between Dec.3-8\"\n",
    "\n",
    "# Test Speak Plugin\n",
    "# HUMAN_MESSAGE = \"How to say I love you in Portuguese?\""
   ]
  },
  {
   "attachments": {},
   "cell_type": "markdown",
   "metadata": {},
   "source": [
    "### Retrieve plugins"
   ]
  },
  {
   "cell_type": "code",
   "execution_count": 37,
   "metadata": {},
   "outputs": [],
   "source": [
    "names, plugins = top_plugins(HUMAN_MESSAGE)"
   ]
  },
  {
   "attachments": {},
   "cell_type": "markdown",
   "metadata": {},
   "source": [
    "#### Call LLM"
   ]
  },
  {
   "cell_type": "code",
   "execution_count": 38,
   "metadata": {},
   "outputs": [
    {
     "name": "stdout",
     "output_type": "stream",
     "text": [
      "<API>KlarnaProducts.productsUsingGET({\"countryCode\": \"us\", \"q\": \"t-shirt\", \"size\": 5})</API>\n"
     ]
    }
   ],
   "source": [
    "chat = ChatOpenAI(temperature=0, model=\"gpt-4-0613\")\n",
    "\n",
    "messages = [\n",
    "    SystemMessage(content=plugins.prompt),\n",
    "    HumanMessage(content=HUMAN_MESSAGE)\n",
    "]\n",
    "\n",
    "res = chat(messages)\n",
    "\n",
    "llm_first_response = res.content\n",
    "\n",
    "print(llm_first_response)"
   ]
  },
  {
   "attachments": {},
   "cell_type": "markdown",
   "metadata": {},
   "source": [
    "## Parse the LLM response"
   ]
  },
  {
   "cell_type": "code",
   "execution_count": 39,
   "metadata": {},
   "outputs": [
    {
     "name": "stdout",
     "output_type": "stream",
     "text": [
      "{'plugin_name': 'KlarnaProducts', 'operation_id': 'productsUsingGET', 'parameters': {'countryCode': 'us', 'q': 't-shirt', 'size': 5}}\n"
     ]
    }
   ],
   "source": [
    "# import the parser function\n",
    "from plugnplai import parse_llm_response\n",
    "\n",
    "# Parse the LLM response importing '\n",
    "call_dict = parse_llm_response(llm_first_response)\n",
    "print(call_dict)"
   ]
  },
  {
   "attachments": {},
   "cell_type": "markdown",
   "metadata": {},
   "source": [
    "## Call Plugin"
   ]
  },
  {
   "cell_type": "code",
   "execution_count": 40,
   "metadata": {},
   "outputs": [
    {
     "name": "stdout",
     "output_type": "stream",
     "text": [
      "200\n"
     ]
    },
    {
     "data": {
      "text/plain": [
       "{'products': [{'name': 'Polo Ralph Lauren Slim Fit Cotton T-shirt 3-pack',\n",
       "   'url': 'https://www.klarna.com/us/shopping/pl/cl10001/3201838628/Clothing/Polo-Ralph-Lauren-Slim-Fit-Cotton-T-shirt-3-pack/?utm_source=openai&ref-site=openai_plugin',\n",
       "   'price': '$27.65',\n",
       "   'attributes': ['Material:Cotton',\n",
       "    'Target Group:Man',\n",
       "    'Color:Gray,White,Blue,Multicolor,Black',\n",
       "    'Size:S,XL,XS,L,M,XXL']},\n",
       "  {'name': 'Palm Angels Bear T-shirt - White',\n",
       "   'url': 'https://www.klarna.com/us/shopping/pl/cl10001/3200094728/Clothing/Palm-Angels-Bear-T-shirt-White/?utm_source=openai&ref-site=openai_plugin',\n",
       "   'price': '$218.00',\n",
       "   'attributes': ['Size (US):12,14,8,10',\n",
       "    'Material:Cotton',\n",
       "    'Target Group:Man',\n",
       "    'Color:White',\n",
       "    'Size:S,XL,3XL,XS,L,M,XXL']},\n",
       "  {'name': 'adidas Adicolor Classics Trefoil T-shirt - Black/White',\n",
       "   'url': 'https://www.klarna.com/us/shopping/pl/cl10001/3201095924/Clothing/adidas-Adicolor-Classics-Trefoil-T-shirt-Black-White/?utm_source=openai&ref-site=openai_plugin',\n",
       "   'price': '$11.22',\n",
       "   'attributes': ['Material:Cotton',\n",
       "    'Target Group:Man',\n",
       "    'Color:Black',\n",
       "    'Size:S,XL,XS,L,M,XXL']},\n",
       "  {'name': 'Psycho Bunny Mens Copa Gradient Logo Graphic Tee',\n",
       "   'url': 'https://www.klarna.com/us/shopping/pl/cl10001/3203663222/Clothing/Psycho-Bunny-Mens-Copa-Gradient-Logo-Graphic-Tee/?utm_source=openai&ref-site=openai_plugin',\n",
       "   'price': '$49.00',\n",
       "   'attributes': ['Material:Cotton',\n",
       "    'Target Group:Man',\n",
       "    'Color:White,Blue,Black,Orange',\n",
       "    'Size:XXS,S,XL,3XL,XS,L,M,XXL']},\n",
       "  {'name': \"Armani Exchange Men's Script Logo T-shirt\",\n",
       "   'url': 'https://www.klarna.com/us/shopping/pl/cl10001/3202187360/Clothing/Armani-Exchange-Men-s-Script-Logo-T-shirt/?utm_source=openai&ref-site=openai_plugin',\n",
       "   'price': '$36.95',\n",
       "   'attributes': ['Material:Cotton',\n",
       "    'Target Group:Man',\n",
       "    'Color:Blue,Black',\n",
       "    'Size:S,XL,XS,L,M,XXL']}]}"
      ]
     },
     "execution_count": 40,
     "metadata": {},
     "output_type": "execute_result"
    }
   ],
   "source": [
    "r = plugins.call_api(plugin_name = call_dict['plugin_name'],\n",
    "                    operation_id = call_dict['operation_id'],\n",
    "                    parameters = call_dict['parameters']\n",
    "                    )\n",
    "\n",
    "print(r.status_code)\n",
    "api_response = r.json()\n",
    "r.json()"
   ]
  },
  {
   "attachments": {},
   "cell_type": "markdown",
   "metadata": {},
   "source": [
    "## LLM responds using the API data"
   ]
  },
  {
   "cell_type": "code",
   "execution_count": 41,
   "metadata": {},
   "outputs": [
    {
     "data": {
      "text/markdown": [
       "Here are some t-shirts available on Klarna:\n",
       "\n",
       "1. [Polo Ralph Lauren Slim Fit Cotton T-shirt 3-pack](https://www.klarna.com/us/shopping/pl/cl10001/3201838628/Clothing/Polo-Ralph-Lauren-Slim-Fit-Cotton-T-shirt-3-pack/?utm_source=openai&ref-site=openai_plugin) - $27.65\n",
       "   - Material: Cotton\n",
       "   - Target Group: Man\n",
       "   - Color: Gray, White, Blue, Multicolor, Black\n",
       "   - Size: S, XL, XS, L, M, XXL\n",
       "\n",
       "2. [Palm Angels Bear T-shirt - White](https://www.klarna.com/us/shopping/pl/cl10001/3200094728/Clothing/Palm-Angels-Bear-T-shirt-White/?utm_source=openai&ref-site=openai_plugin) - $218.00\n",
       "   - Size (US): 12, 14, 8, 10\n",
       "   - Material: Cotton\n",
       "   - Target Group: Man\n",
       "   - Color: White\n",
       "   - Size: S, XL, 3XL, XS, L, M, XXL\n",
       "\n",
       "3. [adidas Adicolor Classics Trefoil T-shirt - Black/White](https://www.klarna.com/us/shopping/pl/cl10001/3201095924/Clothing/adidas-Adicolor-Classics-Trefoil-T-shirt-Black-White/?utm_source=openai&ref-site=openai_plugin) - $11.22\n",
       "   - Material: Cotton\n",
       "   - Target Group: Man\n",
       "   - Color: Black\n",
       "   - Size: S, XL, XS, L, M, XXL\n",
       "\n",
       "4. [Psycho Bunny Mens Copa Gradient Logo Graphic Tee](https://www.klarna.com/us/shopping/pl/cl10001/3203663222/Clothing/Psycho-Bunny-Mens-Copa-Gradient-Logo-Graphic-Tee/?utm_source=openai&ref-site=openai_plugin) - $49.00\n",
       "   - Material: Cotton\n",
       "   - Target Group: Man\n",
       "   - Color: White, Blue, Black, Orange\n",
       "   - Size: XXS, S, XL, 3XL, XS, L, M, XXL\n",
       "\n",
       "5. [Armani Exchange Men's Script Logo T-shirt](https://www.klarna.com/us/shopping/pl/cl10001/3202187360/Clothing/Armani-Exchange-Men-s-Script-Logo-T-shirt/?utm_source=openai&ref-site=openai_plugin) - $36.95\n",
       "   - Material: Cotton\n",
       "   - Target Group: Man\n",
       "   - Color: Blue, Black\n",
       "   - Size: S, XL, XS, L, M, XXL\n",
       "\n",
       "Please note that prices and availability are subject to change."
      ],
      "text/plain": [
       "<IPython.core.display.Markdown object>"
      ]
     },
     "metadata": {},
     "output_type": "display_data"
    }
   ],
   "source": [
    "from plugnplai import Plugins\n",
    "\n",
    "api_return_prompt = f\"\"\"\n",
    "Assistant is a large language model with access to plugins.\n",
    "\n",
    "Assistant called a plugin in response to this human message:\n",
    "# HUMAN MESSAGE\n",
    "{HUMAN_MESSAGE}\n",
    "\n",
    "# API REQUEST SUMMARY\n",
    "{llm_first_response}\n",
    "\n",
    "# API RESPONSE\n",
    "{api_response}\n",
    "\"\"\"\n",
    "\n",
    "# # Install the plugins ewith the original template\n",
    "# plugins = Plugins.install_and_activate(urls)\n",
    "\n",
    "chat = ChatOpenAI(temperature=0, model=\"gpt-4-0613\")\n",
    "# chat = ChatOpenAI(temperature=0, model=\"gpt-3.5-turbo\")\n",
    "\n",
    "messages = [\n",
    "    SystemMessage(content=api_return_prompt),\n",
    "    HumanMessage(content=\"HUMAN_MESSAGE\")\n",
    "]\n",
    "\n",
    "res = chat(messages)\n",
    "\n",
    "display(Markdown(res.content))"
   ]
  }
 ],
 "metadata": {
  "kernelspec": {
   "display_name": "Python 3",
   "language": "python",
   "name": "python3"
  },
  "language_info": {
   "codemirror_mode": {
    "name": "ipython",
    "version": 3
   },
   "file_extension": ".py",
   "mimetype": "text/x-python",
   "name": "python",
   "nbconvert_exporter": "python",
   "pygments_lexer": "ipython3",
   "version": "3.9.13"
  },
  "orig_nbformat": 4
 },
 "nbformat": 4,
 "nbformat_minor": 2
}
