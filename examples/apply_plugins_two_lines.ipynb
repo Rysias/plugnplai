{
  "cells": [
    {
      "cell_type": "markdown",
      "metadata": {
        "id": "xXnd1cCu1TkJ"
      },
      "source": [
        "# Add Plugins in two lines\n",
        "\n",
        "[![Open In Colab](https://colab.research.google.com/assets/colab-badge.svg)](https://colab.research.google.com/github/edreisMD/plugnplai/blob/main/examples/apply_plugins_two_lines.ipynb)"
      ]
    },
    {
      "cell_type": "markdown",
      "metadata": {
        "id": "OZWQil8RrAKV"
      },
      "source": [
        "# Install and import necessary packages"
      ]
    },
    {
      "cell_type": "code",
      "execution_count": 3,
      "metadata": {
        "colab": {
          "base_uri": "https://localhost:8080/"
        },
        "id": "7RUcr3tLEK7M",
        "outputId": "2aa31e20-4106-4048-c34c-b468f10fff56"
      },
      "outputs": [],
      "source": [
        "pip uninstall plugnplai -y"
      ]
    },
    {
      "cell_type": "code",
      "execution_count": 8,
      "metadata": {},
      "outputs": [],
      "source": [
        "# You will need to first define your API key\n",
        "import os\n",
        "os.environ[\"OPENAI_API_KEY\"] = \"YOUR_OPENAI_KEY\""
      ]
    },
    {
      "cell_type": "code",
      "execution_count": 13,
      "metadata": {},
      "outputs": [],
      "source": [
        "import plugnplai as pl\n",
        "from langchain.chat_models import ChatOpenAI\n",
        "from langchain.prompts.chat import ChatPromptTemplate, SystemMessagePromptTemplate, AIMessagePromptTemplate, HumanMessagePromptTemplate\n",
        "from langchain.schema import AIMessage, HumanMessage, SystemMessage\n",
        "from IPython.display import display, Markdown"
      ]
    },
    {
      "cell_type": "markdown",
      "metadata": {
        "id": "7fYY9i4Z3sBO"
      },
      "source": [
        "# Get the plugins"
      ]
    },
    {
      "cell_type": "markdown",
      "metadata": {
        "id": "nlC-9wyp2vtF"
      },
      "source": [
        "Lets find one plugin for each category, using PlugnPlai categories (see [API reference](https://plugnplai.github.io/))\n",
        "1. travel\n",
        "2. shopping \n",
        "3. weather"
      ]
    },
    {
      "cell_type": "code",
      "execution_count": 5,
      "metadata": {
        "colab": {
          "base_uri": "https://localhost:8080/"
        },
        "id": "MmqqHyg5Eee0",
        "outputId": "33e028f9-003f-41c1-f9d0-acfcc4fd1fdd"
      },
      "outputs": [
        {
          "name": "stdout",
          "output_type": "stream",
          "text": [
            "Our chosen Plugins: ['https://trip.com', 'https://klarna.com', 'https://api.speak.com']\n"
          ]
        }
      ],
      "source": [
        "# Get working plugins - only tested plugins (in progress)\n",
        "urlsTravel = pl.get_plugins()\n",
        "\n",
        "# Lets pick Trip, Klarna and Speak\n",
        "urls = [plugin for plugin in urlsTravel if any(word in plugin for word in ('trip.com', 'klarna', 'speak'))]\n",
        "\n",
        "print(f'Our chosen Plugins: {urls}')"
      ]
    },
    {
      "cell_type": "markdown",
      "metadata": {
        "id": "hj5MtCaPyk9p"
      },
      "source": [
        "# Install and activate the plugins"
      ]
    },
    {
      "cell_type": "code",
      "execution_count": 6,
      "metadata": {
        "id": "JMHi1UTpy8LV"
      },
      "outputs": [],
      "source": [
        "from plugnplai import Plugins\n",
        "\n",
        "plugins = Plugins.install_and_activate(urls)"
      ]
    },
    {
      "cell_type": "markdown",
      "metadata": {
        "id": "2-alHvKpyk9q"
      },
      "source": [
        "# Define your LLM function and apply plugins as decorator"
      ]
    },
    {
      "cell_type": "code",
      "execution_count": 9,
      "metadata": {
        "colab": {
          "base_uri": "https://localhost:8080/"
        },
        "id": "g770AOGZ0vwH",
        "outputId": "739138b3-e6f7-460d-9d5a-0837fc2f3594"
      },
      "outputs": [],
      "source": [
        "chat = ChatOpenAI(temperature=0, model=\"gpt-4\")\n",
        "\n",
        "@plugins.apply_plugins\n",
        "def call_llm(user_message):\n",
        "  messages = [\n",
        "    SystemMessage(content=\"\"),\n",
        "    HumanMessage(content=user_message)\n",
        "  ]\n",
        "\n",
        "  res = chat(messages)\n",
        "\n",
        "  llm_first_response = res.content\n",
        "\n",
        "  return llm_first_response"
      ]
    },
    {
      "cell_type": "markdown",
      "metadata": {},
      "source": [
        "# Use your function\n",
        "\n",
        "Now your function should call a plugin when the LLM returns a `<API>` \n",
        "or just returns the normal message if not. "
      ]
    },
    {
      "cell_type": "code",
      "execution_count": 16,
      "metadata": {},
      "outputs": [
        {
          "name": "stdout",
          "output_type": "stream",
          "text": [
            "Using KlarnaProducts\n"
          ]
        },
        {
          "data": {
            "text/markdown": [
              "I found a few t-shirts for you:\n",
              "\n",
              "1. [T-shirt](https://www.klarna.com/us/shopping/pl/cl10001/3203506327/Clothing/T-shirt/?utm_source=openai&ref-site=openai_plugin) - $20.99\n",
              "   - Material: Cotton\n",
              "   - Target Group: Man\n",
              "   - Color: Gray, White, Blue, Black, Orange\n",
              "\n",
              "2. [Polo Ralph Lauren Slim Fit Cotton T-shirt 3-pack](https://www.klarna.com/us/shopping/pl/cl10001/3201838628/Clothing/Polo-Ralph-Lauren-Slim-Fit-Cotton-T-shirt-3-pack/?utm_source=openai&ref-site=openai_plugin) - $42.50\n",
              "   - Material: Cotton\n",
              "   - Target Group: Man\n",
              "   - Color: Gray, White, Blue, Multicolor, Black\n",
              "\n",
              "3. [Psycho Bunny Mens Copa Gradient Logo Graphic Tee](https://www.klarna.com/us/shopping/pl/cl10001/3203663222/Clothing/Psycho-Bunny-Mens-Copa-Gradient-Logo-Graphic-Tee/?utm_source=openai&ref-site=openai_plugin) - $49.00\n",
              "   - Material: Cotton\n",
              "   - Target Group: Man\n",
              "   - Color: White, Blue, Black, Orange\n",
              "\n",
              "You can click on the links to view more details and make a purchase."
            ],
            "text/plain": [
              "<IPython.core.display.Markdown object>"
            ]
          },
          "metadata": {},
          "output_type": "display_data"
        }
      ],
      "source": [
        "response = call_llm(\"Buy a tshirt\")\n",
        "# Display in markdown format\n",
        "display(Markdown(response))"
      ]
    },
    {
      "cell_type": "code",
      "execution_count": 17,
      "metadata": {},
      "outputs": [
        {
          "name": "stdout",
          "output_type": "stream",
          "text": [
            "Using Trip\n"
          ]
        },
        {
          "data": {
            "text/markdown": [
              "I have found the top 5 hotels in Paris for your stay from December 3rd to December 8th, 2023. Here are the details:\n",
              "\n",
              "1. [Le Tsuba Hotel](https://us.trip.com/hotels/detail/?cityId=192&hotelId=6597288&checkin=2023-12-03&checkout=2023-12-08&curr=USD)\n",
              "   - Address: 45 Rue des Acacias\n",
              "   - Price: $295 USD per night\n",
              "   - Star rating: 4 stars\n",
              "   - Score: 4.6/5.0 (36 reviews)\n",
              "   - Features: Sauna, gym\n",
              "\n",
              "2. [Pullman Paris Centre - Bercy](https://us.trip.com/hotels/detail/?cityId=192&hotelId=2107175&checkin=2023-12-03&checkout=2023-12-08&curr=USD)\n",
              "   - Address: 1 Rue de Libourne\n",
              "   - Price: $236 USD per night\n",
              "   - Star rating: 4 stars\n",
              "   - Score: 4.5/5.0 (42 reviews)\n",
              "   - Features: Swimming pool, children's playground\n",
              "\n",
              "3. [Pullman Paris Tour Eiffel](https://us.trip.com/hotels/detail/?cityId=192&hotelId=2081163&checkin=2023-12-03&checkout=2023-12-08&curr=USD)\n",
              "   - Address: 18 Avenue De Suffren, 22 Rue Jean Rey Entrée Au\n",
              "   - Price: $298 USD per night\n",
              "   - Star rating: 4 stars\n",
              "   - Score: 4.2/5.0 (112 reviews)\n",
              "   - Features: Gym, multi-function hall\n",
              "\n",
              "4. [Hotel de Castiglione Paris](https://us.trip.com/hotels/detail/?cityId=192&hotelId=2157992&checkin=2023-12-03&checkout=2023-12-08&curr=USD)\n",
              "   - Address: 38-40 Rue du Faubourg Saint-Honoré\n",
              "   - Price: $221 USD per night\n",
              "   - Star rating: 4 stars\n",
              "   - Score: 3.9/5.0 (49 reviews)\n",
              "   - Features: Tea room, conference hall\n",
              "\n",
              "5. [Hotel de Crillon A Rosewood Hotel](https://us.trip.com/hotels/detail/?cityId=192&hotelId=1619850&checkin=2023-12-03&checkout=2023-12-08&curr=USD)\n",
              "   - Address: 10 Pl. de la Concorde\n",
              "   - Price: $1673 USD per night\n",
              "   - Star rating: 5 stars\n",
              "   - Score: 4.7/5.0 (7 reviews)\n",
              "   - Features: Sunbathing area, sauna\n",
              "\n",
              "Please note that prices and availability are subject to change. Make sure to book your preferred hotel as soon as possible to secure your reservation."
            ],
            "text/plain": [
              "<IPython.core.display.Markdown object>"
            ]
          },
          "metadata": {},
          "output_type": "display_data"
        }
      ],
      "source": [
        "response = call_llm(\"Book a hotel in paris for Dec.3-8\")\n",
        "display(Markdown(response))"
      ]
    },
    {
      "cell_type": "code",
      "execution_count": 18,
      "metadata": {},
      "outputs": [
        {
          "name": "stdout",
          "output_type": "stream",
          "text": [
            "Using speak\n"
          ]
        },
        {
          "data": {
            "text/markdown": [
              "In Portuguese, you can say \"I love you\" as:\n",
              "\n",
              "**Eu te amo**\n",
              "\n",
              "Here are some alternative ways to express love in Portuguese:\n",
              "\n",
              "1. \"Amo-te\" (More formal, less commonly used, but still appropriate in romantic settings)\n",
              "2. \"Adoro-te\" (Similar to \"I adore you\", commonly used in romantic relationships)\n",
              "3. \"Te quero\" (Less intense than \"I love you\", also appropriate to use with friends, family, or significant others)\n",
              "\n",
              "Here's an example conversation in Portuguese:\n",
              "\n",
              "*Context: Maria and João are a young couple who are deeply in love and are on a date at the beach at sunset.*\n",
              "\n",
              "* João: \"Maria, eu te amo tanto, não consigo imaginar minha vida sem você.\"\n",
              "* Maria: \"Eu também te amo, João. Você é o melhor namorado que eu poderia pedir.\"\n",
              "\n",
              "[Report an issue or leave feedback](https://speak.com/chatgpt?rid=zgoen4wd4xgoc65ndmbzx4og)"
            ],
            "text/plain": [
              "<IPython.core.display.Markdown object>"
            ]
          },
          "metadata": {},
          "output_type": "display_data"
        }
      ],
      "source": [
        "response = call_llm(\"How to say I love you in Portuguese?\")\n",
        "display(Markdown(response))"
      ]
    },
    {
      "cell_type": "markdown",
      "metadata": {},
      "source": [
        "### Try making question that shouldn't use a plugin"
      ]
    },
    {
      "cell_type": "code",
      "execution_count": 15,
      "metadata": {},
      "outputs": [
        {
          "data": {
            "text/plain": [
              "'🤖 The AI revolution is transforming the world! 🌍 From enhancing productivity to personalizing experiences, artificial intelligence is unlocking new possibilities and reshaping industries. Embrace the change and join the #AIRevolution! 💡 #TechTrends #Innovation #FutureIsNow'"
            ]
          },
          "execution_count": 15,
          "metadata": {},
          "output_type": "execute_result"
        }
      ],
      "source": [
        "call_llm(\"Write tweet about the AI revolution.\")"
      ]
    },
    {
      "cell_type": "code",
      "execution_count": null,
      "metadata": {},
      "outputs": [],
      "source": []
    }
  ],
  "metadata": {
    "colab": {
      "provenance": []
    },
    "kernelspec": {
      "display_name": "Python 3.10.6 ('rainbow')",
      "language": "python",
      "name": "python3"
    },
    "language_info": {
      "codemirror_mode": {
        "name": "ipython",
        "version": 3
      },
      "file_extension": ".py",
      "mimetype": "text/x-python",
      "name": "python",
      "nbconvert_exporter": "python",
      "pygments_lexer": "ipython3",
      "version": "3.10.6"
    },
    "vscode": {
      "interpreter": {
        "hash": "3ccef4e08d87aa1eeb90f63e0f071292ccb2e9c42e70f74ab2bf6f5493ca7bbc"
      }
    }
  },
  "nbformat": 4,
  "nbformat_minor": 0
}
