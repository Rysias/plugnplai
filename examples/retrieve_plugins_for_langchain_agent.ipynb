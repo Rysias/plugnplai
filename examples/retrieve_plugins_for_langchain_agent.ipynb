{
 "cells": [
  {
   "attachments": {},
   "cell_type": "markdown",
   "metadata": {},
   "source": [
    "# Retrieving Plugins for LangChain Agent Using Plug and Plai\n",
    "\n",
    "[![Open In Colab](https://colab.research.google.com/assets/colab-badge.svg)](https://colab.research.google.com/github/edreisMD/plugnplai/blob/main/examples/retrieve_plugins_for_langchain_agent.ipynb)\n",
    "\n",
    "This example shows how to retrieve compatible plugins using Plug and Plai within LangChain abstractions.\n",
    "\n",
    "### 1. Install Plug and Plai and necessary LangChain tools"
   ]
  },
  {
   "cell_type": "code",
   "execution_count": null,
   "metadata": {},
   "outputs": [],
   "source": [
    "pip install plugnplai -q"
   ]
  },
  {
   "cell_type": "code",
   "execution_count": 1,
   "metadata": {},
   "outputs": [],
   "source": [
    "from langchain.chat_models import ChatOpenAI\n",
    "from langchain.agents import load_tools, initialize_agent\n",
    "from langchain.agents import AgentType\n",
    "from langchain.tools import AIPluginTool"
   ]
  },
  {
   "attachments": {},
   "cell_type": "markdown",
   "metadata": {},
   "source": [
    "### 2. Retrieve compatible plugins"
   ]
  },
  {
   "cell_type": "code",
   "execution_count": 7,
   "metadata": {},
   "outputs": [
    {
     "name": "stdout",
     "output_type": "stream",
     "text": [
      "['https://api.speak.com', 'https://wolframcloud.com', 'https://wolframalpha.com', 'https://klarna.com', 'https://nla.zapier.com', 'https://server.shop.app', 'https://joinmilo.com', 'https://api.getguru.com', 'https://biztoc.com', 'https://chat-calculator-plugin.supportmirage.repl.co', 'https://datasette.io', 'https://chatgpt-plugin-dexa-lex-fridman.transitive-bullshit.workers.dev', 'https://greenyroad.com', 'https://domainsg.pt', 'https://quickchart.io', 'https://urlbox.io', 'https://portfoliopilot.com', 'https://api.triplewhale.com', 'https://api.tasty.co', 'https://semgrep.dev', 'https://woxo.tech', 'https://textbelt.com', 'https://mrkter.io', 'https://api.kittycad.io', 'https://scenex.jina.ai', 'https://chatgpt-plugin-ts.transitive-bullshit.workers.dev', 'https://transvribe.com', 'https://websearch.plugsugar.com', 'https://sparkpost.com', 'https://appypie.com', 'https://app.asana.com', 'https://api.openai.com', 'https://mixerbox.com', 'https://lu.ma', 'https://ramp.com', 'https://gps-telecom.com', 'https://aii.seovendor.co', 'https://chatgpt-todo-plugin5.edreismd.repl.co', 'https://kalendar.ai', 'https://theansible.ai', 'https://gh-plugin.teammait.com', 'https://valispace.com', 'https://kyuda.io', 'https://datamuse.com', 'https://remoteambition.com', 'https://docketalarm.com', 'https://gpt.censys.io', 'https://slack.com', 'https://schooldigger.com', 'https://stingray-app-9pild.ondigitalocean.app', 'https://pricerunner.com', 'https://openai.creaticode.com', 'https://yabblezone.net', 'https://polygon.io', 'https://gpt.collov.com', 'https://api.yelp.com', 'https://coupert.com', 'https://crossmint.com', 'https://rentable.co', 'https://oneword.domains', 'https://telnyx.com', 'https://trip.com', 'https://plugin.so', 'https://public-api.wordpress.com', 'https://valispace.com', 'https://woxo.tech', 'https://kalendar.ai', 'https://baltimorehomecleaning.com', 'https://twtdata.com', 'https://docsbot.ai', 'https://savvytrader.com', 'https://deno.bundlejs.com', 'https://pandia.pro', 'https://brainlox.ai', 'https://plugin.autoinfra.ai', 'https://infobot.ai', 'https://gochitchat.ai', 'https://polarr.co', 'https://dev.to', 'https://preview.techspecs.io', 'https://influencermarketing.ai', 'https://smyth.seo.app', 'https://chat.noteable.io', 'https://decisionjournalapp.com', 'https://app.reportdash.com', 'https://gogaffl.com', 'https://haulingbuddies.com', 'https://api.tomorrow.io', 'https://wahi.com', 'https://pybullet.org', 'https://audd.io', 'https://avian.io', 'https://inkitt.com', 'https://voxscript.awt.icu', 'https://lexi-shopping-assistant-chatgpt-plugin.iamnazzty.repl.co', 'https://keyplays.malcsilberman.repl.co', 'https://gpt-chess.atomic14.com', 'https://ndricks.com', 'https://webreader.webpilotai.com', 'https://opentrivia.drengskapur.workers.dev', 'https://plugin.ai.vivian.com', 'https://stage.glowing.ai', 'https://llmsearch.endpoint.getyourguide.com', 'https://stock-advisor.com', 'https://plugin.speechki.org', 'https://api.giftwrap.ai', 'https://searchweb.keymate.ai', 'https://chatgpt.vipmanor.com', 'https://openai-plugin.yayforms.com', 'https://algorithma.ruvnet.repl.co', 'https://word-sneak.jeevnayak.repl.co', 'https://chatwithpdf.sdan.io', 'https://showme.redstarplugin.com', 'https://shimmer.ooo', 'https://comicfinder.fly.dev', 'https://likewiserecommends.com', 'https://api.getchange.io', 'https://gptshop.bohita.com', 'https://jettel.de', 'https://crafty-clues.jeevnayak.repl.co', 'https://mbplayer.com', 'https://metar.pluginai.ai', 'https://xyz-prompt-perfect.uc.r.appspot.com', 'https://chatgpt-plugin.2u.com', 'https://scholar-ai.net', 'https://chatgpt-plugin.prod.golden.dev', 'https://redfin.com', 'https://plugin.askyourpdf.com', 'https://zumper.com', 'https://bardeen.ai', 'https://stepstone.de', 'https://etoro.com', 'https://progressier.com', 'https://labs.cactiml.com', 'https://lighthouse.app', 'https://screenshotone.com', 'https://fdvbygg.no', 'https://stuffthatworks.health', 'https://kassal.app', 'https://portfolioslab.com', 'https://retriever.openindex.ai', 'https://olomouc.eu', 'https://wikidocs.net', 'https://cryptojobslist.com', 'https://fyrebox.com', 'https://buywisely.com.au', 'https://ticktick.com', 'https://agones.gr', 'https://nftlinkroundup.com', 'https://aitoolhunt.com', 'https://chatspot.ai', 'https://petrolpricepredictor.com', 'https://amazingtalker.co.kr', 'https://travelmyth.com', 'https://tym.world', 'https://alphavantage.co', 'https://reflect.app', 'https://klook.com', 'https://magicslides.app', 'https://lorelattice.com', 'https://babyagichatgpt.skirano.repl.co', 'https://credityelp.com', 'https://chatgpt.boolio.co.kr', 'https://quickrecall.cards', 'https://chatwithvideo.sdan.io', 'https://chatgpt-word-counter.edreismd.repl.co', 'https://chatgptplugin.planfit.ai', 'https://api.ndricks.com', 'https://website-performance-plugin.eidam.dev', 'https://fundsdbsearch.azurewebsites.net', 'https://currency-conversion--nerrosa.repl.co', 'https://vector-api.fly.dev', 'https://chatmaps.sdan.io', 'https://gitsearch.sdan.io', 'https://chatwithwebsite.sdan.io', 'https://gptnews.uk', 'https://xapi.lihaorui.com', 'https://quakeph-plugin.chatbot.so', 'https://roboad.herokuapp.com', 'https://imagesearch.jjzhang.repl.co', 'https://statisfinapp.herokuapp.com', 'https://aperiodic.io', 'https://esne.ai', 'https://abcaudio.vynalezce.com', 'https://chatgpt.wild.creatuity.net', 'https://iamrich--eviltwinv.repl.co', 'https://theresanaiforthat.com', 'https://api.ludum.dev', 'https://plugin.daizy.com', 'https://creaturegen.vercel.app', 'https://app.wolfie.ai', 'https://simbiss.net', 'https://coincap.gptplug.chat', 'https://api.gafo.tech', 'https://optionspro.io', 'https://giga-do.azurewebsites.net', 'https://aiplugin-owljourney.owlting.com', 'https://accesslinks.ai', 'https://playlistai-plugin.vercel.app', 'https://plugin.bramework.com', 'https://midjourney-ruddy.vercel.app', 'https://trialradar.marketflare.repl.co', 'https://api.metaphor.systems', 'https://local.goodcall.ai', 'https://openapi.visla.us', 'https://ai.abcmouse.com', 'https://c3glide-d9g5.boldstratus.com', 'https://tenereteam.com']\n",
      "['https://api.speak.com', 'https://wolframcloud.com', 'https://wolframalpha.com', 'https://klarna.com', 'https://nla.zapier.com', 'https://server.shop.app', 'https://joinmilo.com', 'https://portfoliopilot.com', 'https://api.tasty.co', 'https://remoteambition.com', 'https://openai.creaticode.com', 'https://yabblezone.net']\n"
     ]
    }
   ],
   "source": [
    "import plugnplai\n",
    "\n",
    "# Get all plugins from plugnplai.com\n",
    "urls = plugnplai.get_plugins()\n",
    "print(format(urls))\n",
    "\n",
    "# Or get ChatGPT plugins - only ChatGPT verified plugins\n",
    "urls = plugnplai.get_plugins(filter = 'ChatGPT')\n",
    "print(urls)\n",
    "\n",
    "# Or get plugins that are verified for working with LangChain\n",
    "# urls = plugnplai.get_plugins(verified_for = 'langchain')\n",
    "# print(urls)"
   ]
  }
 ],
 "metadata": {
  "kernelspec": {
   "display_name": "Python 3",
   "language": "python",
   "name": "python3"
  },
  "language_info": {
   "codemirror_mode": {
    "name": "ipython",
    "version": 3
   },
   "file_extension": ".py",
   "mimetype": "text/x-python",
   "name": "python",
   "nbconvert_exporter": "python",
   "pygments_lexer": "ipython3",
   "version": "3.11.3"
  },
  "orig_nbformat": 4
 },
 "nbformat": 4,
 "nbformat_minor": 2
}
