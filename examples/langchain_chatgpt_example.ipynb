{
 "cells": [
  {
   "attachments": {},
   "cell_type": "markdown",
   "metadata": {},
   "source": [
    "# Appying plugins to your LangChain OpenAI GPT model (without agents)\n",
    "[![Open In Colab](https://colab.research.google.com/assets/colab-badge.svg)](https://colab.research.google.com/github/edreisMD/plugnplai/blob/main/examples/langchain_chatgpt_example.ipynb)\n",
    "\n",
    "This notebook displays how to use Plug and Plai to retrieve and implement plugins to a LangChain LLM model, without needing to convert the plugins to tools and attach them to an agent.\n",
    "## Preform necessary imports, and install plugnplai."
   ]
  },
  {
   "cell_type": "code",
   "execution_count": null,
   "metadata": {},
   "outputs": [],
   "source": [
    "pip install plugnplai -q"
   ]
  },
  {
   "cell_type": "code",
   "execution_count": 62,
   "metadata": {},
   "outputs": [],
   "source": [
    "import plugnplai\n",
    "from langchain.chat_models import ChatOpenAI\n",
    "from langchain.schema import HumanMessage, SystemMessage\n",
    "from IPython.display import display, Markdown"
   ]
  },
  {
   "attachments": {},
   "cell_type": "markdown",
   "metadata": {},
   "source": [
    "## Set up LLM"
   ]
  },
  {
   "cell_type": "code",
   "execution_count": 30,
   "metadata": {},
   "outputs": [],
   "source": [
    "# Change model to \"gpt-3.5-turbo\" or \"gpt-3.5\" if you do not have access to GPT-4\n",
    "chat = ChatOpenAI(temperature=0, model=\"gpt-4\", openai_api_key=\"YOUR_API_KEY\")"
   ]
  },
  {
   "attachments": {},
   "cell_type": "markdown",
   "metadata": {},
   "source": [
    "## Retrieve and store plugins\n",
    "Retrieve all plugins, filter by category or framework, or enter specific urls. For this example, we will be using Klarna.com and Trip.com as our plugins."
   ]
  },
  {
   "cell_type": "code",
   "execution_count": 58,
   "metadata": {},
   "outputs": [
    {
     "name": "stdout",
     "output_type": "stream",
     "text": [
      "Our chosen Plugins: ['https://klarna.com', 'https://trip.com']\n"
     ]
    }
   ],
   "source": [
    "# Get all plugins from plugnplai.com\n",
    "urls = plugnplai.get_plugins()\n",
    "\n",
    "#  Get ChatGPT plugins - only ChatGPT verified plugins\n",
    "urls = plugnplai.get_plugins(filter = 'ChatGPT')\n",
    "\n",
    "#  Get plugins verified for specific frameworks\n",
    "urls = plugnplai.get_plugins(verified_for = 'langchain')\n",
    "\n",
    "# Get plugins from direct url\n",
    "urls = ['https://klarna.com', 'https://trip.com']\n",
    "\n",
    "print(f'Our chosen Plugins: {urls}')"
   ]
  },
  {
   "attachments": {},
   "cell_type": "markdown",
   "metadata": {},
   "source": [
    "## Install and activate plugins"
   ]
  },
  {
   "cell_type": "code",
   "execution_count": 64,
   "metadata": {},
   "outputs": [],
   "source": [
    "from plugnplai import Plugins\n",
    "\n",
    "plugins = Plugins.install_and_activate(urls)"
   ]
  },
  {
   "attachments": {},
   "cell_type": "markdown",
   "metadata": {},
   "source": [
    "## Apply plugins to LLM\n",
    "Use `@plugins.apply_plugins` decorator to easily apply plugins to your LLM function\n",
    "\n",
    "The LLM function MUST get a string as the user input as first variable and output the string with the response"
   ]
  },
  {
   "cell_type": "code",
   "execution_count": 60,
   "metadata": {},
   "outputs": [],
   "source": [
    "@plugins.apply_plugins\n",
    "def call_llm(user_message):\n",
    "    messages = [\n",
    "        SystemMessage(content=\"\"),\n",
    "        HumanMessage(content=user_message)\n",
    "    ]\n",
    "\n",
    "    res = chat(messages)\n",
    "\n",
    "    llm_first_response = res.content\n",
    "\n",
    "    return llm_first_response\n"
   ]
  },
  {
   "attachments": {},
   "cell_type": "markdown",
   "metadata": {},
   "source": [
    "## Test LLM\n",
    "\n",
    "Let's test both plugins now."
   ]
  },
  {
   "cell_type": "code",
   "execution_count": 33,
   "metadata": {},
   "outputs": [
    {
     "name": "stdout",
     "output_type": "stream",
     "text": [
      "Using KlarnaProducts\n"
     ]
    },
    {
     "data": {
      "text/markdown": [
       "Here are some t-shirts available on Klarna:\n",
       "\n",
       "1. [Patagonia Women's P-6 Logo Responsibili-Tee - T-shirt](https://www.klarna.com/us/shopping/pl/cl10001/3201782768/Clothing/Patagonia-Women-s-P-6-Logo-Responsibili-Tee-T-shirt/?utm_source=openai&ref-site=openai_plugin) - $23.84\n",
       "   - Material: Polyester, Recycled Fabric, Cotton\n",
       "   - Target Group: Woman\n",
       "   - Color: Gray, Pink, White, Blue\n",
       "\n",
       "2. [Moschino T-shirt - White](https://www.klarna.com/us/shopping/pl/cl10001/3203506327/Clothing/Moschino-T-shirt-White/?utm_source=openai&ref-site=openai_plugin) - $121.00\n",
       "   - Material: Cotton\n",
       "   - Target Group: Man\n",
       "   - Color: White\n",
       "\n",
       "3. [Polo Ralph Lauren Slim Fit Cotton T-shirt 3-pack](https://www.klarna.com/us/shopping/pl/cl10001/3201838628/Clothing/Polo-Ralph-Lauren-Slim-Fit-Cotton-T-shirt-3-pack/?utm_source=openai&ref-site=openai_plugin) - $28.90\n",
       "   - Material: Cotton\n",
       "   - Target Group: Man\n",
       "   - Color: Gray, White, Blue, Multicolor, Black\n",
       "\n",
       "Please note that prices and availability are subject to change."
      ],
      "text/plain": [
       "<IPython.core.display.Markdown object>"
      ]
     },
     "metadata": {},
     "output_type": "display_data"
    }
   ],
   "source": [
    "# Message that triggers the use of plugin 1\n",
    "response = call_llm(\"What are some t shirts available on Klarna?\")\n",
    "# Display in markdown format\n",
    "display(Markdown(response))"
   ]
  },
  {
   "cell_type": "code",
   "execution_count": 61,
   "metadata": {},
   "outputs": [
    {
     "name": "stdout",
     "output_type": "stream",
     "text": [
      "Using Trip\n"
     ]
    },
    {
     "data": {
      "text/markdown": [
       "I found 3 top hotels in Paris for your stay from June 3 to June 8, 2023:\n",
       "\n",
       "1. [Pullman Paris Centre - Bercy](https://us.trip.com/hotels/detail/?cityId=192&hotelId=2107175&checkin=2023-06-03&checkout=2023-06-08&curr=USD&allianceid=3842389&sid=22086800)\n",
       "   - Address: 1 Rue de Libourne\n",
       "   - Price: $270 per night\n",
       "   - Rating: 4.5/5.0 (42 reviews)\n",
       "   - 4-star hotel\n",
       "   - Features: Swimming pool, fitness center\n",
       "   - Opened in 2000, renovated in 2014\n",
       "\n",
       "2. [Shangri-La Paris](https://us.trip.com/hotels/detail/?cityId=192&hotelId=730333&checkin=2023-06-03&checkout=2023-06-08&curr=USD&allianceid=3842389&sid=22086800)\n",
       "   - Address: 10 Av. d'Iéna\n",
       "   - Price: $2117 per night\n",
       "   - Rating: 4.6/5.0 (6 reviews)\n",
       "   - 5-star hotel\n",
       "   - Features: Sauna, swimming pool\n",
       "   - Opened and renovated in 2010\n",
       "\n",
       "3. [Pullman Paris Tour Eiffel](https://us.trip.com/hotels/detail/?cityId=192&hotelId=2081163&checkin=2023-06-03&checkout=2023-06-08&curr=USD&allianceid=3842389&sid=22086800)\n",
       "   - Address: 18 Avenue De Suffren, 22 Rue Jean Rey Entrée Au\n",
       "   - Price: $1056 per night\n",
       "   - Rating: 4.2/5.0 (113 reviews)\n",
       "   - 4-star hotel\n",
       "   - Features: Fitness center, multi-function hall\n",
       "   - Opened in 1964, renovated in 2019\n",
       "\n",
       "Please note that prices and availability are subject to change. Click on the hotel links to get more information and book your stay."
      ],
      "text/plain": [
       "<IPython.core.display.Markdown object>"
      ]
     },
     "metadata": {},
     "output_type": "display_data"
    }
   ],
   "source": [
    "# Message that triggers the use of plugin 2\n",
    "response = call_llm(\"Book a hotel in Paris for June 3-8?\")\n",
    "display(Markdown(response))"
   ]
  }
 ],
 "metadata": {
  "kernelspec": {
   "display_name": "Python 3",
   "language": "python",
   "name": "python3"
  },
  "language_info": {
   "codemirror_mode": {
    "name": "ipython",
    "version": 3
   },
   "file_extension": ".py",
   "mimetype": "text/x-python",
   "name": "python",
   "nbconvert_exporter": "python",
   "pygments_lexer": "ipython3",
   "version": "3.11.3"
  },
  "orig_nbformat": 4
 },
 "nbformat": 4,
 "nbformat_minor": 2
}
