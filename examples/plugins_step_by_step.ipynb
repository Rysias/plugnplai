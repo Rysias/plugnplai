{
  "cells": [
    {
      "cell_type": "markdown",
      "metadata": {
        "id": "xXnd1cCu1TkJ"
      },
      "source": [
        "# Add Plugins Step by Step - using PlugnPlai and LangChain\n",
        "\n",
        "[![Open In Colab](https://colab.research.google.com/assets/colab-badge.svg)](https://colab.research.google.com/github/edreisMD/plugnplai/blob/main/examples/plugins_step_by_step.ipynb)\n",
        "\n",
        "The goal of this example is to go through all the steps to add plugins to LLMs\n",
        "1. Get plugins of certain categories from [plugnplai.com](https://plugnplai.com)\n",
        "2. Load plugins manifest and specifications\n",
        "3. Parse specifications and generate a prompt with the descriptions\n",
        "4. Use [LangChain]() to call the LLM\n",
        "5. Parse the LLM response, looking for the `[API]` pattern defined on `plugins.prompt`\n",
        "6. Call the plugin using `plugins.call()`\n",
        "7. Use LangChain again to ask the LLM a final response using the new data"
      ]
    },
    {
      "cell_type": "markdown",
      "metadata": {
        "id": "OZWQil8RrAKV"
      },
      "source": [
        "# Install"
      ]
    },
    {
      "cell_type": "code",
      "execution_count": 2,
      "metadata": {
        "colab": {
          "base_uri": "https://localhost:8080/"
        },
        "id": "7RUcr3tLEK7M",
        "outputId": "595c3751-91c9-4bb6-8326-9fbcca19fcff"
      },
      "outputs": [
        {
          "name": "stdout",
          "output_type": "stream",
          "text": [
            "Note: you may need to restart the kernel to use updated packages.\n"
          ]
        }
      ],
      "source": [
        "pip install plugnplai -q"
      ]
    },
    {
      "cell_type": "markdown",
      "metadata": {
        "id": "7fYY9i4Z3sBO"
      },
      "source": [
        "# Get the plugins from the directory"
      ]
    },
    {
      "cell_type": "markdown",
      "metadata": {
        "id": "nlC-9wyp2vtF"
      },
      "source": [
        "We want to install three plugins at maximum to fit the description on the context length\n",
        "\n",
        "Lets find one plugin for each category:\n",
        "1. travel\n",
        "2. shopping \n",
        "3. weather\n",
        "\n",
        "We can use PlugnPlai categories (see [API reference](https://plugnplai.github.io/))"
      ]
    },
    {
      "cell_type": "code",
      "execution_count": 4,
      "metadata": {
        "colab": {
          "base_uri": "https://localhost:8080/"
        },
        "id": "MmqqHyg5Eee0",
        "outputId": "2e002204-ddfb-4bb4-8a29-bf0a1bed2a25"
      },
      "outputs": [
        {
          "name": "stdout",
          "output_type": "stream",
          "text": [
            "Travel plugins: ['https://gogaffl.com', 'https://trip.com', 'https://api.yelp.com', 'https://gps-telecom.com']\n",
            "Shopping plugins: ['https://pricerunner.com', 'https://server.shop.app', 'https://klarna.com']\n",
            "Weather plugins: ['https://api.speak.com']\n"
          ]
        }
      ],
      "source": [
        "import plugnplai as pl\n",
        "\n",
        "# Get working plugins - only tested plugins (in progress)\n",
        "urlsTravel = pl.get_plugins(category='travel')[\"urls\"]\n",
        "print(f'Travel plugins: {urlsTravel}')\n",
        "\n",
        "urlsShopping = pl.get_plugins(category='shopping')[\"urls\"]\n",
        "print(f'Shopping plugins: {urlsShopping}')\n",
        "\n",
        "urlsLan = pl.get_plugins(category='language')[\"urls\"]\n",
        "print(f'Weather plugins: {urlsLan}')"
      ]
    },
    {
      "cell_type": "code",
      "execution_count": 5,
      "metadata": {
        "colab": {
          "base_uri": "https://localhost:8080/"
        },
        "id": "81MK5G3aJ6pA",
        "outputId": "4d4e72fa-ab73-45e3-d1f4-b478d0b5aa1e"
      },
      "outputs": [
        {
          "name": "stdout",
          "output_type": "stream",
          "text": [
            "Our chosen Plugins: ['https://trip.com', 'https://klarna.com', 'https://api.speak.com']\n"
          ]
        }
      ],
      "source": [
        "# Lets pick one of each list and add to our url list\n",
        "\n",
        "urls = []\n",
        "\n",
        "# Trip (list index 1)\n",
        "urls.append(urlsTravel[1])\n",
        "\n",
        "# Klarna (list index 2)\n",
        "urls.append(urlsShopping[2])\n",
        "\n",
        "# Speak (list index 0)\n",
        "urls.append(urlsLan[0])\n",
        "\n",
        "print(f'Our chosen Plugins: {urls}')"
      ]
    },
    {
      "cell_type": "markdown",
      "metadata": {},
      "source": [
        "# Load and activate the plugins"
      ]
    },
    {
      "cell_type": "code",
      "execution_count": 6,
      "metadata": {
        "id": "JMHi1UTpy8LV"
      },
      "outputs": [],
      "source": [
        "from plugnplai import Plugins\n",
        "\n",
        "plugins = Plugins.install_and_activate(urls)"
      ]
    },
    {
      "cell_type": "markdown",
      "metadata": {},
      "source": [
        "## Print the default prompt for the active plugins"
      ]
    },
    {
      "cell_type": "code",
      "execution_count": 7,
      "metadata": {
        "colab": {
          "base_uri": "https://localhost:8080/"
        },
        "id": "g770AOGZ0vwH",
        "outputId": "e83aeca5-d65f-4367-a653-2a36523045a5"
      },
      "outputs": [
        {
          "name": "stdout",
          "output_type": "stream",
          "text": [
            "\n",
            "# SYSTEM MESSAGE\n",
            "You are a large language model trained to assist humans.\n",
            "Knowledge Cutoff: 2021-09\n",
            "Current date: 2023-05-12\n",
            "Below is a list of available APIs that you can utilize to fulfill user requests. \n",
            "When using an API, please follow the specified format to make the API call. \n",
            "If possible, avoid asking follow-up questions and aim to complete the task with the information provided by the user.\n",
            "\n",
            "To make an API call, use the following format:\n",
            "\n",
            "[API]namespace.operationId[/API]\n",
            "[PARAMS]{ \n",
            "    \"parameter_name\": \"parameter_value\",\n",
            "    ...\n",
            "}[/PARAMS]\n",
            "\n",
            "For example, to call an API operation with the operation ID \"productsUsingGET\" in the \"KlarnaProducts\" namespace, \n",
            "and provide the required parameters \"q\" and \"size\", the format would be as follows:\n",
            "\n",
            "[API]KlarnaProducts.productsUsingGET[/API]\n",
            "[PARAMS]{\n",
            "    \"q\": \"t-shirt\", \n",
            "    \"size\": 3\n",
            "}[/PARAMS]\n",
            "\n",
            "Please ensure that you use the correct namespace and operation ID, and provide the necessary parameters for each API call. \n",
            "After requesting the API, refrain from writing anything else and wait for the API response, which will be delivered in a new message.\n",
            "\n",
            "## Plugins description\n",
            "\n",
            "### Plugin 1\n",
            "// Plugin for users to effortlessly get customized travel product recommendation and itinerary planning including hotels and flights using chatGPT.\n",
            "namespace Trip {\n",
            "\n",
            "operationId search_flight_ticket = (_: {'originCityCode'*: 'str', 'destinationCityCode'*: 'str', 'departureDate'*: 'str', 'returnDate'*: 'str', 'locale'*: 'str', 'oneWayOrRoundTrip'*: 'str'}) => any\n",
            "\n",
            "operationId search_hotel = (_: {'cityName'*: 'str', 'topHotel'*: 'int', 'locale'*: 'str', 'checkIn'*: 'any', 'checkOut'*: 'any'}) => any}\n",
            "\n",
            "### Plugin 2\n",
            "// Assistant uses the Klarna plugin to get relevant product suggestions for any shopping or product discovery purpose. Assistant will reply with the following 3 paragraphs 1) Search Results 2) Product Comparison of the Search Results 3) Followup Questions. The first paragraph contains a list of the products with their attributes listed clearly and concisely as bullet points under the product, together with a link to the product and an explanation. Links will always be returned and should be shown to the user. The second paragraph compares the results returned in a summary sentence starting with \"In summary\". Assistant comparisons consider only the most important features of the products that will help them fit the users request, and each product mention is brief, short and concise. In the third paragraph assistant always asks helpful follow-up questions and end with a question mark. When assistant is asking a follow-up question, it uses it's product expertise to provide information pertaining to the subject of the user's request that may guide them in their search for the right product.\n",
            "namespace KlarnaProducts {\n",
            "\n",
            "operationId productsUsingGET = (_: {'q'*: 'str', 'size': 'int', 'min_price': 'int', 'max_price': 'int'}) => any}\n",
            "\n",
            "### Plugin 3\n",
            "// # Prompt 20230322\n",
            "\n",
            "Use the Speak plugin when the user asks a question about another language, like: how to say something specific, how to do something, what a particular foreign word or phrase means, or a concept/nuance specific to a foreign language or culture.\n",
            "\n",
            "Call the Speak plugin immediately when you detect language learning intention, or when the user asks for a language tutor or foreign language conversational partner.\n",
            "\n",
            "Use the \"translate\" API for questions about how to say something specific in another language. Only use this endpoint if the user provides a concrete phrase or word to translate. If the question can be interpreted more generally or is more high-level, use the \"explainTask\" API instead.\n",
            "Examples: \"how do i say 'do you know what time it is?' politely in German\", \"say 'do you have any vegetarian dishes?' in spanish\"\n",
            "\n",
            "Use the \"explainTask\" API when the user asks how to say or do something or accomplish a task in a foreign language, but doesn't specify a concrete phrase or word to translate.\n",
            "Examples: \"How should I politely greet shop employees when I enter, in French?\" or \"How do I compliment someone in Spanish on their shirt?\"\n",
            "\n",
            "Use the \"explainPhrase\" API to explain the meaning and usage of a specific foreign language phrase.\n",
            "Example: \"what does putain mean in french?\"\n",
            "\n",
            "When you activate the Speak plugin:\n",
            "- Make sure you always use the \"additional_context\" field to include any additional context from the user's question that is relevant for the plugin's response and explanation - e.g. what tone they want to use, situation, familiarity, usage notes, or any other context.\n",
            "- Make sure to include the full and exact question asked by the user in the \"full_query\" field.\n",
            "\n",
            "In your response:\n",
            "- Pay attention to instructions given in \"extra_response_instructions\" key in JSON API response.\n",
            "\n",
            "namespace speak {\n",
            "\n",
            "operationId translate = (_: {'phrase_to_translate'*: 'str', 'learning_language'*: 'str', 'native_language'*: 'str', 'additional_context'*: 'str', 'full_query'*: 'str'}) => any\n",
            "\n",
            "operationId explainPhrase = (_: {'foreign_phrase'*: 'str', 'learning_language'*: 'str', 'native_language'*: 'str', 'additional_context'*: 'str', 'full_query'*: 'str'}) => any\n",
            "\n",
            "operationId explainTask = (_: {'task_description'*: 'str', 'learning_language'*: 'str', 'native_language'*: 'str', 'additional_context'*: 'str', 'full_query'*: 'str'}) => any}\n",
            "\n",
            "\n",
            "# USER MESSAGE\n",
            "\n"
          ]
        }
      ],
      "source": [
        "print(plugins.prompt)"
      ]
    },
    {
      "cell_type": "markdown",
      "metadata": {},
      "source": [
        "## Lets look at the length of the prompt\n",
        "\n",
        "Get the number of tokens of the prompt by just calling 'plugins.tokens' "
      ]
    },
    {
      "cell_type": "code",
      "execution_count": 8,
      "metadata": {
        "colab": {
          "base_uri": "https://localhost:8080/"
        },
        "id": "jnFld3xszdrx",
        "outputId": "fd6efdf5-6aca-45dc-bdac-f95c5a9c8d96"
      },
      "outputs": [
        {
          "name": "stdout",
          "output_type": "stream",
          "text": [
            "1212\n"
          ]
        }
      ],
      "source": [
        "print(plugins.tokens)"
      ]
    },
    {
      "cell_type": "markdown",
      "metadata": {},
      "source": [
        "## Call the LLM using LangChain"
      ]
    },
    {
      "cell_type": "code",
      "execution_count": 11,
      "metadata": {},
      "outputs": [],
      "source": [
        "# You will need to first define your API key\n",
        "import os\n",
        "os.environ[\"OPENAI_API_KEY\"] = \"YOUR_OPENAI_KEY\""
      ]
    },
    {
      "cell_type": "code",
      "execution_count": 1,
      "metadata": {},
      "outputs": [],
      "source": [
        "from langchain.chat_models import ChatOpenAI\n",
        "from langchain.prompts.chat import ChatPromptTemplate, SystemMessagePromptTemplate, AIMessagePromptTemplate, HumanMessagePromptTemplate\n",
        "from langchain.schema import AIMessage, HumanMessage, SystemMessage"
      ]
    },
    {
      "cell_type": "markdown",
      "metadata": {},
      "source": [
        "#### Uncomment or modify the message to test different plugins"
      ]
    },
    {
      "cell_type": "code",
      "execution_count": 2,
      "metadata": {},
      "outputs": [],
      "source": [
        "# Test Klarna Plugin\n",
        "# HUMAN_MESSAGE = \"I want to buy a rolling stones t-shirt\"\n",
        "\n",
        "# Test Trip Plugin\n",
        "HUMAN_MESSAGE = \"I need a hotel in Paris next weekend.\"\n",
        "\n",
        "# Test Speak Plugin\n",
        "# HUMAN_MESSAGE = \"How to say I love you in Portuguese?\""
      ]
    },
    {
      "cell_type": "markdown",
      "metadata": {},
      "source": [
        "#### Call LLM"
      ]
    },
    {
      "cell_type": "code",
      "execution_count": 4,
      "metadata": {},
      "outputs": [
        {
          "name": "stderr",
          "output_type": "stream",
          "text": [
            "WARNING! model is not default parameter.\n",
            "                    model was transferred to model_kwargs.\n",
            "                    Please confirm that model is what you intended.\n"
          ]
        },
        {
          "ename": "ValidationError",
          "evalue": "1 validation error for ChatOpenAI\n__root__\n  Parameters {'model'} should be specified explicitly. Instead they were passed in as part of `model_kwargs` parameter. (type=value_error)",
          "output_type": "error",
          "traceback": [
            "\u001b[0;31m---------------------------------------------------------------------------\u001b[0m",
            "\u001b[0;31mValidationError\u001b[0m                           Traceback (most recent call last)",
            "\u001b[1;32m/bmrNAS/people/edreis/plugnplai/examples/plugins_step_by_step.ipynb Cell 20\u001b[0m in \u001b[0;36m<cell line: 1>\u001b[0;34m()\u001b[0m\n\u001b[0;32m----> <a href='vscode-notebook-cell://ssh-remote%2Btorino.stanford.edu/bmrNAS/people/edreis/plugnplai/examples/plugins_step_by_step.ipynb#X30sdnNjb2RlLXJlbW90ZQ%3D%3D?line=0'>1</a>\u001b[0m chat \u001b[39m=\u001b[39m ChatOpenAI(temperature\u001b[39m=\u001b[39;49m\u001b[39m0\u001b[39;49m, model\u001b[39m=\u001b[39;49m\u001b[39m\"\u001b[39;49m\u001b[39mgpt-4\u001b[39;49m\u001b[39m\"\u001b[39;49m)\n\u001b[1;32m      <a href='vscode-notebook-cell://ssh-remote%2Btorino.stanford.edu/bmrNAS/people/edreis/plugnplai/examples/plugins_step_by_step.ipynb#X30sdnNjb2RlLXJlbW90ZQ%3D%3D?line=2'>3</a>\u001b[0m messages \u001b[39m=\u001b[39m [\n\u001b[1;32m      <a href='vscode-notebook-cell://ssh-remote%2Btorino.stanford.edu/bmrNAS/people/edreis/plugnplai/examples/plugins_step_by_step.ipynb#X30sdnNjb2RlLXJlbW90ZQ%3D%3D?line=3'>4</a>\u001b[0m     SystemMessage(content\u001b[39m=\u001b[39mplugins\u001b[39m.\u001b[39mprompt),\n\u001b[1;32m      <a href='vscode-notebook-cell://ssh-remote%2Btorino.stanford.edu/bmrNAS/people/edreis/plugnplai/examples/plugins_step_by_step.ipynb#X30sdnNjb2RlLXJlbW90ZQ%3D%3D?line=4'>5</a>\u001b[0m     HumanMessage(content\u001b[39m=\u001b[39mHUMAN_MESSAGE)\n\u001b[1;32m      <a href='vscode-notebook-cell://ssh-remote%2Btorino.stanford.edu/bmrNAS/people/edreis/plugnplai/examples/plugins_step_by_step.ipynb#X30sdnNjb2RlLXJlbW90ZQ%3D%3D?line=5'>6</a>\u001b[0m ]\n\u001b[1;32m      <a href='vscode-notebook-cell://ssh-remote%2Btorino.stanford.edu/bmrNAS/people/edreis/plugnplai/examples/plugins_step_by_step.ipynb#X30sdnNjb2RlLXJlbW90ZQ%3D%3D?line=7'>8</a>\u001b[0m res \u001b[39m=\u001b[39m chat(messages)\n",
            "File \u001b[0;32m/bmrNAS/people/edreis/miniconda/envs/rainbow/lib/python3.10/site-packages/pydantic/main.py:341\u001b[0m, in \u001b[0;36mpydantic.main.BaseModel.__init__\u001b[0;34m()\u001b[0m\n",
            "\u001b[0;31mValidationError\u001b[0m: 1 validation error for ChatOpenAI\n__root__\n  Parameters {'model'} should be specified explicitly. Instead they were passed in as part of `model_kwargs` parameter. (type=value_error)"
          ]
        }
      ],
      "source": [
        "chat = ChatOpenAI(temperature=0, model=\"gpt-4\")\n",
        "\n",
        "messages = [\n",
        "    SystemMessage(content=plugins.prompt),\n",
        "    HumanMessage(content=HUMAN_MESSAGE)\n",
        "]\n",
        "\n",
        "res = chat(messages)\n",
        "\n",
        "llm_first_response = res.content\n",
        "\n",
        "print(llm_first_response)"
      ]
    },
    {
      "cell_type": "markdown",
      "metadata": {},
      "source": [
        "## Parse the LLM response"
      ]
    },
    {
      "cell_type": "code",
      "execution_count": null,
      "metadata": {},
      "outputs": [],
      "source": [
        "# import the parser function\n",
        "from pluginplai import parse_llm_response\n",
        "\n",
        "# Parse the LLM response importing '\n",
        "call_dict = parse_llm_response(llm_first_response)\n",
        "print(call_dict)"
      ]
    },
    {
      "cell_type": "markdown",
      "metadata": {},
      "source": [
        "## Call Plugin"
      ]
    },
    {
      "cell_type": "code",
      "execution_count": 2,
      "metadata": {},
      "outputs": [
        {
          "ename": "NameError",
          "evalue": "name 'plugins' is not defined",
          "output_type": "error",
          "traceback": [
            "\u001b[0;31m---------------------------------------------------------------------------\u001b[0m",
            "\u001b[0;31mNameError\u001b[0m                                 Traceback (most recent call last)",
            "\u001b[1;32m/bmrNAS/people/edreis/plugnplai/examples/plugins_step_by_step.ipynb Cell 24\u001b[0m in \u001b[0;36m<cell line: 1>\u001b[0;34m()\u001b[0m\n\u001b[0;32m----> <a href='vscode-notebook-cell://ssh-remote%2Btorino.stanford.edu/bmrNAS/people/edreis/plugnplai/examples/plugins_step_by_step.ipynb#X36sdnNjb2RlLXJlbW90ZQ%3D%3D?line=0'>1</a>\u001b[0m r \u001b[39m=\u001b[39m plugins\u001b[39m.\u001b[39mcall_api(plugin_name \u001b[39m=\u001b[39m call_dict[\u001b[39m'\u001b[39m\u001b[39mplugin_name\u001b[39m\u001b[39m'\u001b[39m], \n\u001b[1;32m      <a href='vscode-notebook-cell://ssh-remote%2Btorino.stanford.edu/bmrNAS/people/edreis/plugnplai/examples/plugins_step_by_step.ipynb#X36sdnNjb2RlLXJlbW90ZQ%3D%3D?line=1'>2</a>\u001b[0m                     operation_id \u001b[39m=\u001b[39m call_dict[\u001b[39m'\u001b[39m\u001b[39moperation_id\u001b[39m\u001b[39m'\u001b[39m], \n\u001b[1;32m      <a href='vscode-notebook-cell://ssh-remote%2Btorino.stanford.edu/bmrNAS/people/edreis/plugnplai/examples/plugins_step_by_step.ipynb#X36sdnNjb2RlLXJlbW90ZQ%3D%3D?line=2'>3</a>\u001b[0m                     parameters \u001b[39m=\u001b[39m call_dict[\u001b[39m'\u001b[39m\u001b[39mparameters\u001b[39m\u001b[39m'\u001b[39m]\n\u001b[1;32m      <a href='vscode-notebook-cell://ssh-remote%2Btorino.stanford.edu/bmrNAS/people/edreis/plugnplai/examples/plugins_step_by_step.ipynb#X36sdnNjb2RlLXJlbW90ZQ%3D%3D?line=3'>4</a>\u001b[0m                     )\n\u001b[1;32m      <a href='vscode-notebook-cell://ssh-remote%2Btorino.stanford.edu/bmrNAS/people/edreis/plugnplai/examples/plugins_step_by_step.ipynb#X36sdnNjb2RlLXJlbW90ZQ%3D%3D?line=5'>6</a>\u001b[0m api_response \u001b[39m=\u001b[39m r\u001b[39m.\u001b[39mjson()\n\u001b[1;32m      <a href='vscode-notebook-cell://ssh-remote%2Btorino.stanford.edu/bmrNAS/people/edreis/plugnplai/examples/plugins_step_by_step.ipynb#X36sdnNjb2RlLXJlbW90ZQ%3D%3D?line=6'>7</a>\u001b[0m r\u001b[39m.\u001b[39mjson()\n",
            "\u001b[0;31mNameError\u001b[0m: name 'plugins' is not defined"
          ]
        }
      ],
      "source": [
        "r = plugins.call_api(plugin_name = call_dict['plugin_name'], \n",
        "                    operation_id = call_dict['operation_id'], \n",
        "                    parameters = call_dict['parameters']\n",
        "                    )\n",
        "\n",
        "api_response = r.json()\n",
        "r.json()"
      ]
    },
    {
      "cell_type": "markdown",
      "metadata": {},
      "source": [
        "## LLM responds using the API data"
      ]
    },
    {
      "cell_type": "code",
      "execution_count": 3,
      "metadata": {},
      "outputs": [
        {
          "ename": "NameError",
          "evalue": "name 'HUMAN_MESSAGE' is not defined",
          "output_type": "error",
          "traceback": [
            "\u001b[0;31m---------------------------------------------------------------------------\u001b[0m",
            "\u001b[0;31mNameError\u001b[0m                                 Traceback (most recent call last)",
            "\u001b[1;32m/bmrNAS/people/edreis/plugnplai/examples/plugins_step_by_step.ipynb Cell 26\u001b[0m in \u001b[0;36m<cell line: 1>\u001b[0;34m()\u001b[0m\n\u001b[1;32m      <a href='vscode-notebook-cell://ssh-remote%2Btorino.stanford.edu/bmrNAS/people/edreis/plugnplai/examples/plugins_step_by_step.ipynb#X42sdnNjb2RlLXJlbW90ZQ%3D%3D?line=0'>1</a>\u001b[0m api_return_prompt \u001b[39m=\u001b[39m \u001b[39mf\u001b[39m\u001b[39m\"\"\"\u001b[39m\n\u001b[1;32m      <a href='vscode-notebook-cell://ssh-remote%2Btorino.stanford.edu/bmrNAS/people/edreis/plugnplai/examples/plugins_step_by_step.ipynb#X42sdnNjb2RlLXJlbW90ZQ%3D%3D?line=1'>2</a>\u001b[0m \u001b[39mAssistant is a large language model with access to plugins.\u001b[39m\n\u001b[1;32m      <a href='vscode-notebook-cell://ssh-remote%2Btorino.stanford.edu/bmrNAS/people/edreis/plugnplai/examples/plugins_step_by_step.ipynb#X42sdnNjb2RlLXJlbW90ZQ%3D%3D?line=2'>3</a>\u001b[0m \n\u001b[1;32m      <a href='vscode-notebook-cell://ssh-remote%2Btorino.stanford.edu/bmrNAS/people/edreis/plugnplai/examples/plugins_step_by_step.ipynb#X42sdnNjb2RlLXJlbW90ZQ%3D%3D?line=3'>4</a>\u001b[0m \u001b[39mAssistant called a plugin in response to this human message:\u001b[39m\n\u001b[1;32m      <a href='vscode-notebook-cell://ssh-remote%2Btorino.stanford.edu/bmrNAS/people/edreis/plugnplai/examples/plugins_step_by_step.ipynb#X42sdnNjb2RlLXJlbW90ZQ%3D%3D?line=4'>5</a>\u001b[0m \u001b[39m# HUMAN MESSAGE\u001b[39m\n\u001b[0;32m----> <a href='vscode-notebook-cell://ssh-remote%2Btorino.stanford.edu/bmrNAS/people/edreis/plugnplai/examples/plugins_step_by_step.ipynb#X42sdnNjb2RlLXJlbW90ZQ%3D%3D?line=5'>6</a>\u001b[0m \u001b[39m{\u001b[39;00mHUMAN_MESSAGE\u001b[39m}\u001b[39;00m\n\u001b[1;32m      <a href='vscode-notebook-cell://ssh-remote%2Btorino.stanford.edu/bmrNAS/people/edreis/plugnplai/examples/plugins_step_by_step.ipynb#X42sdnNjb2RlLXJlbW90ZQ%3D%3D?line=6'>7</a>\u001b[0m \n\u001b[1;32m      <a href='vscode-notebook-cell://ssh-remote%2Btorino.stanford.edu/bmrNAS/people/edreis/plugnplai/examples/plugins_step_by_step.ipynb#X42sdnNjb2RlLXJlbW90ZQ%3D%3D?line=7'>8</a>\u001b[0m \u001b[39m# API REQUEST SUMMARY\u001b[39m\n\u001b[1;32m      <a href='vscode-notebook-cell://ssh-remote%2Btorino.stanford.edu/bmrNAS/people/edreis/plugnplai/examples/plugins_step_by_step.ipynb#X42sdnNjb2RlLXJlbW90ZQ%3D%3D?line=8'>9</a>\u001b[0m \u001b[39m{\u001b[39;00mllm_first_response\u001b[39m}\u001b[39;00m\n\u001b[1;32m     <a href='vscode-notebook-cell://ssh-remote%2Btorino.stanford.edu/bmrNAS/people/edreis/plugnplai/examples/plugins_step_by_step.ipynb#X42sdnNjb2RlLXJlbW90ZQ%3D%3D?line=9'>10</a>\u001b[0m \n\u001b[1;32m     <a href='vscode-notebook-cell://ssh-remote%2Btorino.stanford.edu/bmrNAS/people/edreis/plugnplai/examples/plugins_step_by_step.ipynb#X42sdnNjb2RlLXJlbW90ZQ%3D%3D?line=10'>11</a>\u001b[0m \u001b[39m# API RESPONSE\u001b[39m\n\u001b[1;32m     <a href='vscode-notebook-cell://ssh-remote%2Btorino.stanford.edu/bmrNAS/people/edreis/plugnplai/examples/plugins_step_by_step.ipynb#X42sdnNjb2RlLXJlbW90ZQ%3D%3D?line=11'>12</a>\u001b[0m \u001b[39m{\u001b[39;00mapi_response\u001b[39m}\u001b[39;00m\n\u001b[1;32m     <a href='vscode-notebook-cell://ssh-remote%2Btorino.stanford.edu/bmrNAS/people/edreis/plugnplai/examples/plugins_step_by_step.ipynb#X42sdnNjb2RlLXJlbW90ZQ%3D%3D?line=12'>13</a>\u001b[0m \u001b[39m\"\"\"\u001b[39m\n\u001b[1;32m     <a href='vscode-notebook-cell://ssh-remote%2Btorino.stanford.edu/bmrNAS/people/edreis/plugnplai/examples/plugins_step_by_step.ipynb#X42sdnNjb2RlLXJlbW90ZQ%3D%3D?line=14'>15</a>\u001b[0m \u001b[39m# Install the plugins ewith the original template\u001b[39;00m\n\u001b[1;32m     <a href='vscode-notebook-cell://ssh-remote%2Btorino.stanford.edu/bmrNAS/people/edreis/plugnplai/examples/plugins_step_by_step.ipynb#X42sdnNjb2RlLXJlbW90ZQ%3D%3D?line=15'>16</a>\u001b[0m plugins \u001b[39m=\u001b[39m Plugins\u001b[39m.\u001b[39minstall_and_activate(urls)\n",
            "\u001b[0;31mNameError\u001b[0m: name 'HUMAN_MESSAGE' is not defined"
          ]
        }
      ],
      "source": [
        "api_return_prompt = f\"\"\"\n",
        "Assistant is a large language model with access to plugins.\n",
        "\n",
        "Assistant called a plugin in response to this human message:\n",
        "# HUMAN MESSAGE\n",
        "{HUMAN_MESSAGE}\n",
        "\n",
        "# API REQUEST SUMMARY\n",
        "{llm_first_response}\n",
        "\n",
        "# API RESPONSE\n",
        "{api_response}\n",
        "\"\"\"\n",
        "\n",
        "# Install the plugins ewith the original template\n",
        "plugins = Plugins.install_and_activate(urls)\n",
        "\n",
        "chat = ChatOpenAI(temperature=0, model=\"gpt-4\")\n",
        "# chat = ChatOpenAI(temperature=0, model=\"gpt-3.5-turbo\")\n",
        "\n",
        "messages = [\n",
        "    SystemMessage(content=api_return_prompt),\n",
        "    HumanMessage(content=\"HUMAN_MESSAGE\")\n",
        "]\n",
        "\n",
        "res = chat(messages)\n",
        "\n",
        "print(res.content)"
      ]
    },
    {
      "cell_type": "markdown",
      "metadata": {},
      "source": [
        "# Lets copy the response to a markdown cell:"
      ]
    },
    {
      "cell_type": "markdown",
      "metadata": {},
      "source": [
        "I found 3 hotels in Paris for next weekend (May 19-21, 2023). Here are the top options:\n",
        "\n",
        "1. [Le Tsuba Hotel](https://us.trip.com/hotels/detail/?cityId=192&hotelId=6597288&checkin=2023-05-19&checkout=2023-05-21&curr=USD)\n",
        "   - Address: 45 Rue des Acacias\n",
        "   - Price: $267 USD\n",
        "   - Star rating: 4 stars\n",
        "   - Score: 4.6/5.0 (36 reviews)\n",
        "   - Features: Sauna, fitness room\n",
        "\n",
        "2. [Pullman Paris Centre - Bercy](https://us.trip.com/hotels/detail/?cityId=192&hotelId=2107175&checkin=2023-05-19&checkout=2023-05-21&curr=USD)\n",
        "   - Address: 1 Rue de Libourne\n",
        "   - Price: $337 USD\n",
        "   - Star rating: 4 stars\n",
        "   - Score: 4.5/5.0 (42 reviews)\n",
        "   - Features: Swimming pool, children's playground\n",
        "\n",
        "3. [Shangri-La Paris](https://us.trip.com/hotels/detail/?cityId=192&hotelId=730333&checkin=2023-05-19&checkout=2023-05-21&curr=USD)\n",
        "   - Address: 10 Av. d'Iéna\n",
        "   - Price: $2074 USD\n",
        "   - Star rating: 5 stars\n",
        "   - Score: 4.6/5.0 (6 reviews)\n",
        "   - Features: Sauna, swimming pool\n",
        "\n",
        "Please note that prices and availability are subject to change. Make sure to book your preferred hotel as soon as possible."
      ]
    }
  ],
  "metadata": {
    "colab": {
      "provenance": []
    },
    "kernelspec": {
      "display_name": "Python 3.10.6 ('rainbow')",
      "language": "python",
      "name": "python3"
    },
    "language_info": {
      "codemirror_mode": {
        "name": "ipython",
        "version": 3
      },
      "file_extension": ".py",
      "mimetype": "text/x-python",
      "name": "python",
      "nbconvert_exporter": "python",
      "pygments_lexer": "ipython3",
      "version": "3.10.6"
    },
    "vscode": {
      "interpreter": {
        "hash": "3ccef4e08d87aa1eeb90f63e0f071292ccb2e9c42e70f74ab2bf6f5493ca7bbc"
      }
    }
  },
  "nbformat": 4,
  "nbformat_minor": 0
}
