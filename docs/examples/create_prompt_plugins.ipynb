{
  "cells": [
    {
      "cell_type": "markdown",
      "metadata": {
        "id": "xXnd1cCu1TkJ"
      },
      "source": [
        "# Create Prompt with Plugins Descriptions\n",
        "\n",
        "[![Open In Colab](https://colab.research.google.com/assets/colab-badge.svg)](https://colab.research.google.com/github/edreisMD/plugnplai/blob/main/examples/create_prompt_plugins.ipynb)\n",
        "\n",
        "The goal of this example is to load plugins specifications\n",
        "and create a prefix prompt describing the API to the LLM"
      ]
    },
    {
      "cell_type": "markdown",
      "metadata": {
        "id": "OZWQil8RrAKV"
      },
      "source": [
        "## Install"
      ]
    },
    {
      "cell_type": "code",
      "execution_count": 1,
      "metadata": {
        "colab": {
          "base_uri": "https://localhost:8080/"
        },
        "id": "7RUcr3tLEK7M",
        "outputId": "595c3751-91c9-4bb6-8326-9fbcca19fcff"
      },
      "outputs": [
        {
          "name": "stdout",
          "output_type": "stream",
          "text": [
            "Note: you may need to restart the kernel to use updated packages.\n"
          ]
        }
      ],
      "source": [
        "pip install plugnplai -q"
      ]
    },
    {
      "cell_type": "markdown",
      "metadata": {
        "id": "7fYY9i4Z3sBO"
      },
      "source": [
        "## Get the plugins from the directory"
      ]
    },
    {
      "cell_type": "markdown",
      "metadata": {
        "id": "nlC-9wyp2vtF"
      },
      "source": [
        "We want to install three plugins at maximum to fit the description on the context length\n",
        "\n",
        "Lets find one plugin for each category:\n",
        "1. travel\n",
        "2. shopping \n",
        "3. weather\n",
        "\n",
        "We can use PlugnPlai categories (see [API reference](https://plugnplai.github.io/))"
      ]
    },
    {
      "cell_type": "code",
      "execution_count": 2,
      "metadata": {
        "colab": {
          "base_uri": "https://localhost:8080/"
        },
        "id": "MmqqHyg5Eee0",
        "outputId": "2e002204-ddfb-4bb4-8a29-bf0a1bed2a25"
      },
      "outputs": [
        {
          "name": "stdout",
          "output_type": "stream",
          "text": [
            "Travel plugins: ['https://gogaffl.com', 'https://trip.com', 'https://api.yelp.com', 'https://gps-telecom.com']\n",
            "Shopping plugins: ['https://pricerunner.com', 'https://server.shop.app', 'https://klarna.com']\n",
            "Weather plugins: ['https://api.tomorrow.io']\n"
          ]
        }
      ],
      "source": [
        "import plugnplai as pl\n",
        "\n",
        "# Get working plugins - only tested plugins (in progress)\n",
        "urlsTravel = pl.get_plugins(category='travel')\n",
        "print(f'Travel plugins: {urlsTravel}')\n",
        "\n",
        "urlsShopping = pl.get_plugins(category='shopping')\n",
        "print(f'Shopping plugins: {urlsShopping}')\n",
        "\n",
        "urlsWeather = pl.get_plugins(category='weather')\n",
        "print(f'Weather plugins: {urlsWeather}')"
      ]
    },
    {
      "cell_type": "code",
      "execution_count": 3,
      "metadata": {
        "colab": {
          "base_uri": "https://localhost:8080/"
        },
        "id": "81MK5G3aJ6pA",
        "outputId": "4d4e72fa-ab73-45e3-d1f4-b478d0b5aa1e"
      },
      "outputs": [
        {
          "name": "stdout",
          "output_type": "stream",
          "text": [
            "Our chosen Plugins: ['https://trip.com', 'https://klarna.com', 'https://api.tomorrow.io']\n"
          ]
        }
      ],
      "source": [
        "# Lets pick one of each list and add to our url list\n",
        "\n",
        "urls = []\n",
        "\n",
        "# Trip (list index 1)\n",
        "urls.append([plugin for plugin in urlsTravel if 'trip' in plugin][0])\n",
        "\n",
        "# Klarna (list index 2)\n",
        "urls.append([plugin for plugin in urlsShopping if 'klarna' in plugin][0])\n",
        "\n",
        "# Speak (list index 0)\n",
        "urls.append([plugin for plugin in urlsWeather if 'tomorrow' in plugin][0])\n",
        "\n",
        "print(f'Our chosen Plugins: {urls}')"
      ]
    },
    {
      "cell_type": "markdown",
      "metadata": {},
      "source": [
        "## Load and activate the plugins"
      ]
    },
    {
      "cell_type": "code",
      "execution_count": 4,
      "metadata": {
        "id": "JMHi1UTpy8LV"
      },
      "outputs": [],
      "source": [
        "from plugnplai import Plugins\n",
        "\n",
        "plugins = Plugins.install_and_activate(urls)"
      ]
    },
    {
      "cell_type": "markdown",
      "metadata": {},
      "source": [
        "## Print the default prompt for the active plugins"
      ]
    },
    {
      "cell_type": "code",
      "execution_count": 5,
      "metadata": {
        "colab": {
          "base_uri": "https://localhost:8080/"
        },
        "id": "g770AOGZ0vwH",
        "outputId": "e83aeca5-d65f-4367-a653-2a36523045a5"
      },
      "outputs": [
        {
          "name": "stdout",
          "output_type": "stream",
          "text": [
            "\n",
            "# SYSTEM MESSAGE\n",
            "You are a large language model trained to assist humans.\n",
            "Knowledge Cutoff: 2021-09\n",
            "Current date: 2023-05-12\n",
            "Below is a list of available APIs that you can utilize to fulfill user requests. \n",
            "When using an API, please follow the specified format to make the API call. \n",
            "If possible, avoid asking follow-up questions and aim to complete the task with the information provided by the user.\n",
            "\n",
            "To make an API call, use the following format:\n",
            "\n",
            "[API]namespace.operationId[/API]\n",
            "[PARAMS]{ \n",
            "    \"parameter_name\": \"parameter_value\",\n",
            "    ...\n",
            "}[/PARAMS]\n",
            "\n",
            "For example, to call an API operation with the operation ID \"productsUsingGET\" in the \"KlarnaProducts\" namespace, \n",
            "and provide the required parameters \"q\" and \"size\", the format would be as follows:\n",
            "\n",
            "[API]KlarnaProducts.productsUsingGET[/API]\n",
            "[PARAMS]{\n",
            "    \"q\": \"t-shirt\", \n",
            "    \"size\": 3\n",
            "}[/PARAMS]\n",
            "\n",
            "Please ensure that you use the correct namespace and operation ID, and provide the necessary parameters for each API call. \n",
            "After requesting the API, refrain from writing anything else and wait for the API response, which will be delivered in a new message.\n",
            "\n",
            "## Plugins description\n",
            "\n",
            "### Plugin 1\n",
            "// Plugin for users to effortlessly get customized travel product recommendation and itinerary planning including hotels and flights using chatGPT.\n",
            "namespace Trip {\n",
            "\n",
            "operationId search_flight_ticket = (_: {'originCityCode'*: 'str', 'destinationCityCode'*: 'str', 'departureDate'*: 'str', 'returnDate'*: 'str', 'locale'*: 'str', 'oneWayOrRoundTrip'*: 'str'}) => any\n",
            "\n",
            "operationId search_hotel = (_: {'cityName'*: 'str', 'topHotel'*: 'int', 'locale'*: 'str', 'checkIn'*: 'any', 'checkOut'*: 'any'}) => any}\n",
            "\n",
            "### Plugin 2\n",
            "// Assistant uses the Klarna plugin to get relevant product suggestions for any shopping or product discovery purpose. Assistant will reply with the following 3 paragraphs 1) Search Results 2) Product Comparison of the Search Results 3) Followup Questions. The first paragraph contains a list of the products with their attributes listed clearly and concisely as bullet points under the product, together with a link to the product and an explanation. Links will always be returned and should be shown to the user. The second paragraph compares the results returned in a summary sentence starting with \"In summary\". Assistant comparisons consider only the most important features of the products that will help them fit the users request, and each product mention is brief, short and concise. In the third paragraph assistant always asks helpful follow-up questions and end with a question mark. When assistant is asking a follow-up question, it uses it's product expertise to provide information pertaining to the subject of the user's request that may guide them in their search for the right product.\n",
            "namespace KlarnaProducts {\n",
            "\n",
            "operationId productsUsingGET = (_: {'q'*: 'str', 'size': 'int', 'min_price': 'int', 'max_price': 'int'}) => any}\n",
            "\n",
            "### Plugin 3\n",
            "// Plugin that answers questions about the weather to help users predict, plan, and adapt their day to day to the weather forecast via contextualized chat-based insights.\n",
            "namespace weather {\n",
            "\n",
            "operationId handleWeatherQuestion = (_: {'question'*: 'str'}) => any}\n",
            "\n",
            "\n",
            "# USER MESSAGE\n",
            "\n"
          ]
        }
      ],
      "source": [
        "print(plugins.prompt)"
      ]
    },
    {
      "cell_type": "markdown",
      "metadata": {},
      "source": [
        "## Lets look at the length of the prompt\n",
        "\n",
        "Get the number of tokens of the prompt by just calling 'plugins.tokens' "
      ]
    },
    {
      "cell_type": "code",
      "execution_count": 6,
      "metadata": {
        "colab": {
          "base_uri": "https://localhost:8080/"
        },
        "id": "jnFld3xszdrx",
        "outputId": "fd6efdf5-6aca-45dc-bdac-f95c5a9c8d96"
      },
      "outputs": [
        {
          "name": "stdout",
          "output_type": "stream",
          "text": [
            "731\n"
          ]
        }
      ],
      "source": [
        "print(plugins.tokens)"
      ]
    },
    {
      "cell_type": "markdown",
      "metadata": {},
      "source": [
        "## Customize the prompt template\n",
        "\n",
        "You can customize the template by just passing 'template' as a variable\n",
        "\n",
        "Lets adapt this awesome and funny template from this [LangChain example](https://python.langchain.com/en/latest/use_cases/agents/custom_agent_with_plugin_retrieval.html)\n",
        "\n",
        "The template must have a {{plugins}} variable, to be filled with the descriptions. "
      ]
    },
    {
      "cell_type": "code",
      "execution_count": 7,
      "metadata": {},
      "outputs": [],
      "source": [
        "custom_template = '''\n",
        "Answer the following questions as best you can, but speaking as a pirate might speak. You have access to the following APIs:\n",
        "\n",
        "{{plugins}}\n",
        "To call any api write the name, operation Id and parameters in the following format:\n",
        "[API]namespace.operationId[/API]\n",
        "[PARAMS]{ \"parameter_name\": \"parameter_value\", ...}[/PARAMS]\n",
        "\n",
        "Like in this example to shop a t-shirt: \n",
        "[API]KlarnaProducts.productsUsingGET[/API]\n",
        "[PARAMS]{\"q\": \"t-shirt\", \"size\": 3}[/PARAMS]\n",
        "\n",
        "Begin! Remember to speak as a pirate when giving your final answer. Use lots of \"Arg\"s\n",
        "\n",
        "Question:\n",
        "'''"
      ]
    },
    {
      "cell_type": "code",
      "execution_count": 8,
      "metadata": {},
      "outputs": [
        {
          "name": "stdout",
          "output_type": "stream",
          "text": [
            "\n",
            "Answer the following questions as best you can, but speaking as a pirate might speak. You have access to the following APIs:\n",
            "\n",
            "### Plugin 1\n",
            "// Plugin for users to effortlessly get customized travel product recommendation and itinerary planning including hotels and flights using chatGPT.\n",
            "namespace Trip {\n",
            "\n",
            "operationId search_flight_ticket = (_: {'originCityCode'*: 'str', 'destinationCityCode'*: 'str', 'departureDate'*: 'str', 'returnDate'*: 'str', 'locale'*: 'str', 'oneWayOrRoundTrip'*: 'str'}) => any\n",
            "\n",
            "operationId search_hotel = (_: {'cityName'*: 'str', 'topHotel'*: 'int', 'locale'*: 'str', 'checkIn'*: 'any', 'checkOut'*: 'any'}) => any}\n",
            "\n",
            "### Plugin 2\n",
            "// Assistant uses the Klarna plugin to get relevant product suggestions for any shopping or product discovery purpose. Assistant will reply with the following 3 paragraphs 1) Search Results 2) Product Comparison of the Search Results 3) Followup Questions. The first paragraph contains a list of the products with their attributes listed clearly and concisely as bullet points under the product, together with a link to the product and an explanation. Links will always be returned and should be shown to the user. The second paragraph compares the results returned in a summary sentence starting with \"In summary\". Assistant comparisons consider only the most important features of the products that will help them fit the users request, and each product mention is brief, short and concise. In the third paragraph assistant always asks helpful follow-up questions and end with a question mark. When assistant is asking a follow-up question, it uses it's product expertise to provide information pertaining to the subject of the user's request that may guide them in their search for the right product.\n",
            "namespace KlarnaProducts {\n",
            "\n",
            "operationId productsUsingGET = (_: {'q'*: 'str', 'size': 'int', 'min_price': 'int', 'max_price': 'int'}) => any}\n",
            "\n",
            "### Plugin 3\n",
            "// Plugin that answers questions about the weather to help users predict, plan, and adapt their day to day to the weather forecast via contextualized chat-based insights.\n",
            "namespace weather {\n",
            "\n",
            "operationId handleWeatherQuestion = (_: {'question'*: 'str'}) => any}\n",
            "\n",
            "\n",
            "To call any api write the name, operation Id and parameters in the following format:\n",
            "[API]namespace.operationId[/API]\n",
            "[PARAMS]{ \"parameter_name\": \"parameter_value\", ...}[/PARAMS]\n",
            "\n",
            "Like in this example to shop a t-shirt: \n",
            "[API]KlarnaProducts.productsUsingGET[/API]\n",
            "[PARAMS]{\"q\": \"t-shirt\", \"size\": 3}[/PARAMS]\n",
            "\n",
            "Begin! Remember to speak as a pirate when giving your final answer. Use lots of \"Arg\"s\n",
            "\n",
            "Question:\n",
            "\n",
            "Number of tokens: 592\n"
          ]
        }
      ],
      "source": [
        "plugins = Plugins.install_and_activate(urls, template = custom_template)\n",
        "print(plugins.prompt)\n",
        "print(f'Number of tokens: {plugins.tokens}')"
      ]
    }
  ],
  "metadata": {
    "colab": {
      "provenance": []
    },
    "kernelspec": {
      "display_name": "Python 3.8.15 ('envv': venv)",
      "language": "python",
      "name": "python3"
    },
    "language_info": {
      "codemirror_mode": {
        "name": "ipython",
        "version": 3
      },
      "file_extension": ".py",
      "mimetype": "text/x-python",
      "name": "python",
      "nbconvert_exporter": "python",
      "pygments_lexer": "ipython3",
      "version": "3.8.15"
    },
    "vscode": {
      "interpreter": {
        "hash": "7eed2ceb37f2e6de236eac810ddd55539a1a94fcc3b18d3286d083ea6ee73195"
      }
    }
  },
  "nbformat": 4,
  "nbformat_minor": 0
}
